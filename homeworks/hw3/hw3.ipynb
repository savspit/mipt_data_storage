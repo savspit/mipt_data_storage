{
 "cells": [
  {
   "cell_type": "code",
   "execution_count": 1443,
   "metadata": {},
   "outputs": [],
   "source": [
    "import sqlite3 \n",
    "from sqlite3 import Error\n",
    "import pandas as pd"
   ]
  },
  {
   "attachments": {},
   "cell_type": "markdown",
   "metadata": {},
   "source": [
    "> Дано 2 CSV-файла: один с транзакциями за период 01.01.2023 – 20.04.2023, второй с информацией о клиентах.\n",
    "> \n",
    "> **За дефолтную дату для выборки действующих клиентов брать ‘2023-05-01’**\n",
    "> \n",
    "> Необходимо в Jupyter- ноутбуке выполнить следующие пункты, используя SQLite:"
   ]
  },
  {
   "attachments": {},
   "cell_type": "markdown",
   "metadata": {},
   "source": [
    "## Шаг 1"
   ]
  },
  {
   "attachments": {},
   "cell_type": "markdown",
   "metadata": {},
   "source": [
    "> **(Балл - 2)** Необходимо скачать CSV-файл - <span style=\"color:green\">transactions_for_dz2.csv</span>, создать таблицу _transaction_bd_ со всеми полями, загрузить данные из файла в таблицу и оставить таблицу со структурой:\n",
    "> \n",
    "> <br/>\n",
    "> (0, 'TRANSACTION_ID', 'INTEGER', 0, None, 0) - id транзакции<br/>\n",
    "> (1, 'TX_DATETIME', 'NUMERIC', 0, None, 0) - дата транзакции<br/>\n",
    "> (2, 'CUSTOMER_ID', 'INTEGER', 0, None, 0) - id клиента<br/>\n",
    "> (3, 'TERMINAL_ID', 'INTEGER', 0, None, 0) - id терминала<br/>\n",
    "> (4, 'TX_AMOUNT', 'REAL', 0, None, 0) - сумма транзакции<br/>\n",
    "> \n",
    "> <br/>\n",
    "> Также необходимо скачать второй CSV-файл - <span style=\"color:green\">client_info.csv</span>, создать таблицу _customer_bd_ со всеми полями, загрузить данные из файла в таблицу и получить таблицу со структурой:\n",
    "> <br/>\n",
    "> <br/>\n",
    "> (0, 'CLIENT_ID', 'INTEGER', 0, None, 0) - id клиента<br/>\n",
    "> (1, 'START_DT', 'NUMERIC', 0, None, 0) - дата начало записи о клиенте<br/>\n",
    "> (2, 'END_DT', 'NUMERIC', 0, None, 0) - дата закрытия записи о клиенте<br/>\n",
    "> (3, 'CLIENT_NAME', 'TEXT', 0, None, 0) - название клиента<br/>\n",
    "> (4, 'YEAR_BIRTH', 'TEXT', 0, None, 0) - дата рождение клиента<br/>\n",
    "> <br/>\n",
    "> \n",
    "> **Примечание для следующих шагов**: сумма транзакций не может быть null-ом, это всегда число."
   ]
  },
  {
   "attachments": {},
   "cell_type": "markdown",
   "metadata": {},
   "source": [
    "Создаем функцию для создания подключения с возможностью создания БД в памяти и в файле. По-умолчанию будем использовать создание БД в памяти"
   ]
  },
  {
   "cell_type": "code",
   "execution_count": 1444,
   "metadata": {},
   "outputs": [],
   "source": [
    "def create_connection(in_memory=True, path=None):\n",
    "    conn = None\n",
    "    try:\n",
    "        conn = sqlite3.connect(\":memory:\" if in_memory else path)\n",
    "        print(\"Connection to SQLite DB successful\")\n",
    "    except Error as e:\n",
    "        print(f\"The error '{e}' occurred\")\n",
    "\n",
    "    return conn"
   ]
  },
  {
   "attachments": {},
   "cell_type": "markdown",
   "metadata": {},
   "source": [
    "Создаем функцию для выполнения запросов"
   ]
  },
  {
   "cell_type": "code",
   "execution_count": 1445,
   "metadata": {},
   "outputs": [],
   "source": [
    "def execute_query(query, conn):\n",
    "    cursor = conn.cursor()\n",
    "    try:\n",
    "        cursor.execute(query)\n",
    "        conn.commit()\n",
    "        print(\"Query executed successfully\")\n",
    "    except Error as e:\n",
    "        print(f\"The error '{e}' occurred\")"
   ]
  },
  {
   "attachments": {},
   "cell_type": "markdown",
   "metadata": {},
   "source": [
    "Создаем функцию для заполнения таблицы БД данными из датасета"
   ]
  },
  {
   "cell_type": "code",
   "execution_count": 1446,
   "metadata": {},
   "outputs": [],
   "source": [
    "def sql_insert(data, name, conn, m=0, n=1):\n",
    "    cursor = conn.cursor()\n",
    "    try:\n",
    "        cursor.executemany(f'''\n",
    "                INSERT INTO {name} {tuple(data.columns[m:n])} \n",
    "                    VALUES ({str(\"?, \" * (n-m-1) + \"?\")})\n",
    "                    ''',\n",
    "                data.iloc[:, m:n].values)\n",
    "        conn.commit()\n",
    "        print('Data inserted successfully')\n",
    "    except Error as e:\n",
    "        print(f\"The error '{e}' occurred\")"
   ]
  },
  {
   "attachments": {},
   "cell_type": "markdown",
   "metadata": {},
   "source": [
    "Создаем функцию для получения информации по столбцам"
   ]
  },
  {
   "cell_type": "code",
   "execution_count": 1447,
   "metadata": {},
   "outputs": [],
   "source": [
    "def table_info(table_name, conn):\n",
    "    c = conn.cursor()\n",
    "    meta = c.execute(\"PRAGMA table_info('\" + table_name + \"')\")\n",
    "    for r in meta:\n",
    "        print(r)"
   ]
  },
  {
   "attachments": {},
   "cell_type": "markdown",
   "metadata": {},
   "source": [
    "Задаем дату по-умолчанию"
   ]
  },
  {
   "cell_type": "code",
   "execution_count": 1448,
   "metadata": {},
   "outputs": [],
   "source": [
    "default_date = '2023-05-01'"
   ]
  },
  {
   "attachments": {},
   "cell_type": "markdown",
   "metadata": {},
   "source": [
    "Задаем имя таблицы БД с транзакциями"
   ]
  },
  {
   "cell_type": "code",
   "execution_count": 1449,
   "metadata": {},
   "outputs": [],
   "source": [
    "transaction_table = 'transaction_bd'"
   ]
  },
  {
   "attachments": {},
   "cell_type": "markdown",
   "metadata": {},
   "source": [
    "Задаем имя таблицы БД с клиентами"
   ]
  },
  {
   "cell_type": "code",
   "execution_count": 1450,
   "metadata": {},
   "outputs": [],
   "source": [
    "customer_table = 'customer_bd'"
   ]
  },
  {
   "attachments": {},
   "cell_type": "markdown",
   "metadata": {},
   "source": [
    "Создаем подключение"
   ]
  },
  {
   "cell_type": "code",
   "execution_count": 1451,
   "metadata": {},
   "outputs": [
    {
     "name": "stdout",
     "output_type": "stream",
     "text": [
      "Connection to SQLite DB successful\n"
     ]
    }
   ],
   "source": [
    "conn = create_connection()"
   ]
  },
  {
   "attachments": {},
   "cell_type": "markdown",
   "metadata": {},
   "source": [
    "Создаем таблицу транзакций в БД.<br/>\n",
    "По условию, колонки должны иметь разные типы. Посмотрим на полученный результат и типы столбцов после загрузки данных из датасета."
   ]
  },
  {
   "cell_type": "code",
   "execution_count": 1452,
   "metadata": {},
   "outputs": [
    {
     "name": "stdout",
     "output_type": "stream",
     "text": [
      "Query executed successfully\n"
     ]
    }
   ],
   "source": [
    "execute_query(\n",
    "    f'''\n",
    "    CREATE TABLE IF NOT EXISTS {transaction_table} (\n",
    "        transaction_id INTEGER,\n",
    "        tx_datetime NUMERIC,\n",
    "        customer_id INTEGER,\n",
    "        terminal_id INTEGER,\n",
    "        tx_amount REAL\n",
    "    );\n",
    "    ''',\n",
    "    conn)"
   ]
  },
  {
   "attachments": {},
   "cell_type": "markdown",
   "metadata": {},
   "source": [
    "Загружаем данные из csv в датасет"
   ]
  },
  {
   "cell_type": "code",
   "execution_count": 1453,
   "metadata": {},
   "outputs": [],
   "source": [
    "trans_df = pd.read_csv('data/transactions_for_dz2.csv', delimiter=',')"
   ]
  },
  {
   "attachments": {},
   "cell_type": "markdown",
   "metadata": {},
   "source": [
    "Посмотрим на датасет"
   ]
  },
  {
   "cell_type": "code",
   "execution_count": 1454,
   "metadata": {},
   "outputs": [
    {
     "data": {
      "text/html": [
       "<div>\n",
       "<style scoped>\n",
       "    .dataframe tbody tr th:only-of-type {\n",
       "        vertical-align: middle;\n",
       "    }\n",
       "\n",
       "    .dataframe tbody tr th {\n",
       "        vertical-align: top;\n",
       "    }\n",
       "\n",
       "    .dataframe thead th {\n",
       "        text-align: right;\n",
       "    }\n",
       "</style>\n",
       "<table border=\"1\" class=\"dataframe\">\n",
       "  <thead>\n",
       "    <tr style=\"text-align: right;\">\n",
       "      <th></th>\n",
       "      <th>TRANSACTION_ID</th>\n",
       "      <th>TX_DATETIME</th>\n",
       "      <th>CUSTOMER_ID</th>\n",
       "      <th>TERMINAL_ID</th>\n",
       "      <th>TX_AMOUNT</th>\n",
       "    </tr>\n",
       "  </thead>\n",
       "  <tbody>\n",
       "    <tr>\n",
       "      <th>0</th>\n",
       "      <td>0</td>\n",
       "      <td>2023-01-01 00:00:31</td>\n",
       "      <td>596</td>\n",
       "      <td>3156</td>\n",
       "      <td>533.07</td>\n",
       "    </tr>\n",
       "    <tr>\n",
       "      <th>1</th>\n",
       "      <td>1</td>\n",
       "      <td>2023-01-01 00:02:10</td>\n",
       "      <td>4961</td>\n",
       "      <td>3412</td>\n",
       "      <td>808.56</td>\n",
       "    </tr>\n",
       "    <tr>\n",
       "      <th>2</th>\n",
       "      <td>2</td>\n",
       "      <td>2023-01-01 00:07:56</td>\n",
       "      <td>2</td>\n",
       "      <td>1365</td>\n",
       "      <td>1442.94</td>\n",
       "    </tr>\n",
       "    <tr>\n",
       "      <th>3</th>\n",
       "      <td>3</td>\n",
       "      <td>2023-01-01 00:09:29</td>\n",
       "      <td>4128</td>\n",
       "      <td>8737</td>\n",
       "      <td>620.65</td>\n",
       "    </tr>\n",
       "    <tr>\n",
       "      <th>4</th>\n",
       "      <td>4</td>\n",
       "      <td>2023-01-01 00:10:34</td>\n",
       "      <td>927</td>\n",
       "      <td>9906</td>\n",
       "      <td>490.66</td>\n",
       "    </tr>\n",
       "  </tbody>\n",
       "</table>\n",
       "</div>"
      ],
      "text/plain": [
       "   TRANSACTION_ID          TX_DATETIME  CUSTOMER_ID  TERMINAL_ID  TX_AMOUNT\n",
       "0               0  2023-01-01 00:00:31          596         3156     533.07\n",
       "1               1  2023-01-01 00:02:10         4961         3412     808.56\n",
       "2               2  2023-01-01 00:07:56            2         1365    1442.94\n",
       "3               3  2023-01-01 00:09:29         4128         8737     620.65\n",
       "4               4  2023-01-01 00:10:34          927         9906     490.66"
      ]
     },
     "execution_count": 1454,
     "metadata": {},
     "output_type": "execute_result"
    }
   ],
   "source": [
    "trans_df.head()"
   ]
  },
  {
   "cell_type": "code",
   "execution_count": 1455,
   "metadata": {},
   "outputs": [
    {
     "data": {
      "text/html": [
       "<div>\n",
       "<style scoped>\n",
       "    .dataframe tbody tr th:only-of-type {\n",
       "        vertical-align: middle;\n",
       "    }\n",
       "\n",
       "    .dataframe tbody tr th {\n",
       "        vertical-align: top;\n",
       "    }\n",
       "\n",
       "    .dataframe thead th {\n",
       "        text-align: right;\n",
       "    }\n",
       "</style>\n",
       "<table border=\"1\" class=\"dataframe\">\n",
       "  <thead>\n",
       "    <tr style=\"text-align: right;\">\n",
       "      <th></th>\n",
       "      <th>TRANSACTION_ID</th>\n",
       "      <th>TX_DATETIME</th>\n",
       "      <th>CUSTOMER_ID</th>\n",
       "      <th>TERMINAL_ID</th>\n",
       "      <th>TX_AMOUNT</th>\n",
       "    </tr>\n",
       "  </thead>\n",
       "  <tbody>\n",
       "    <tr>\n",
       "      <th>1048570</th>\n",
       "      <td>1048570</td>\n",
       "      <td>2023-04-20 10:07:13</td>\n",
       "      <td>2380</td>\n",
       "      <td>3780</td>\n",
       "      <td>325.64</td>\n",
       "    </tr>\n",
       "    <tr>\n",
       "      <th>1048571</th>\n",
       "      <td>1048571</td>\n",
       "      <td>2023-04-20 10:07:28</td>\n",
       "      <td>738</td>\n",
       "      <td>5151</td>\n",
       "      <td>20.38</td>\n",
       "    </tr>\n",
       "    <tr>\n",
       "      <th>1048572</th>\n",
       "      <td>1048572</td>\n",
       "      <td>2023-04-20 10:07:33</td>\n",
       "      <td>1000</td>\n",
       "      <td>5417</td>\n",
       "      <td>182.79</td>\n",
       "    </tr>\n",
       "    <tr>\n",
       "      <th>1048573</th>\n",
       "      <td>1048573</td>\n",
       "      <td>2023-04-20 10:07:39</td>\n",
       "      <td>3028</td>\n",
       "      <td>6439</td>\n",
       "      <td>455.44</td>\n",
       "    </tr>\n",
       "    <tr>\n",
       "      <th>1048574</th>\n",
       "      <td>1048574</td>\n",
       "      <td>2023-04-20 10:07:43</td>\n",
       "      <td>3252</td>\n",
       "      <td>6009</td>\n",
       "      <td>304.55</td>\n",
       "    </tr>\n",
       "  </tbody>\n",
       "</table>\n",
       "</div>"
      ],
      "text/plain": [
       "         TRANSACTION_ID          TX_DATETIME  CUSTOMER_ID  TERMINAL_ID  \\\n",
       "1048570         1048570  2023-04-20 10:07:13         2380         3780   \n",
       "1048571         1048571  2023-04-20 10:07:28          738         5151   \n",
       "1048572         1048572  2023-04-20 10:07:33         1000         5417   \n",
       "1048573         1048573  2023-04-20 10:07:39         3028         6439   \n",
       "1048574         1048574  2023-04-20 10:07:43         3252         6009   \n",
       "\n",
       "         TX_AMOUNT  \n",
       "1048570     325.64  \n",
       "1048571      20.38  \n",
       "1048572     182.79  \n",
       "1048573     455.44  \n",
       "1048574     304.55  "
      ]
     },
     "execution_count": 1455,
     "metadata": {},
     "output_type": "execute_result"
    }
   ],
   "source": [
    "trans_df.tail()"
   ]
  },
  {
   "cell_type": "code",
   "execution_count": 1456,
   "metadata": {},
   "outputs": [
    {
     "name": "stdout",
     "output_type": "stream",
     "text": [
      "<class 'pandas.core.frame.DataFrame'>\n",
      "RangeIndex: 1048575 entries, 0 to 1048574\n",
      "Data columns (total 5 columns):\n",
      " #   Column          Non-Null Count    Dtype  \n",
      "---  ------          --------------    -----  \n",
      " 0   TRANSACTION_ID  1048575 non-null  int64  \n",
      " 1   TX_DATETIME     1048575 non-null  object \n",
      " 2   CUSTOMER_ID     1048575 non-null  int64  \n",
      " 3   TERMINAL_ID     1048575 non-null  int64  \n",
      " 4   TX_AMOUNT       1048575 non-null  float64\n",
      "dtypes: float64(1), int64(3), object(1)\n",
      "memory usage: 40.0+ MB\n"
     ]
    }
   ],
   "source": [
    "trans_df.info()"
   ]
  },
  {
   "attachments": {},
   "cell_type": "markdown",
   "metadata": {},
   "source": [
    "Загружаем данные из датасета в таблицу БД"
   ]
  },
  {
   "cell_type": "code",
   "execution_count": 1457,
   "metadata": {},
   "outputs": [
    {
     "name": "stdout",
     "output_type": "stream",
     "text": [
      "Data inserted successfully\n"
     ]
    }
   ],
   "source": [
    "sql_insert(trans_df, transaction_table, conn, 0, trans_df.shape[1])"
   ]
  },
  {
   "attachments": {},
   "cell_type": "markdown",
   "metadata": {},
   "source": [
    "Проверяем соответствие атрибутов условию"
   ]
  },
  {
   "cell_type": "code",
   "execution_count": 1458,
   "metadata": {},
   "outputs": [
    {
     "name": "stdout",
     "output_type": "stream",
     "text": [
      "(0, 'transaction_id', 'INTEGER', 0, None, 0)\n",
      "(1, 'tx_datetime', 'NUMERIC', 0, None, 0)\n",
      "(2, 'customer_id', 'INTEGER', 0, None, 0)\n",
      "(3, 'terminal_id', 'INTEGER', 0, None, 0)\n",
      "(4, 'tx_amount', 'REAL', 0, None, 0)\n"
     ]
    }
   ],
   "source": [
    "table_info(transaction_table, conn)"
   ]
  },
  {
   "attachments": {},
   "cell_type": "markdown",
   "metadata": {},
   "source": [
    "Выберем 10 записей из таблицы и посмотрим на результат"
   ]
  },
  {
   "cell_type": "code",
   "execution_count": 1459,
   "metadata": {},
   "outputs": [
    {
     "data": {
      "text/html": [
       "<div>\n",
       "<style scoped>\n",
       "    .dataframe tbody tr th:only-of-type {\n",
       "        vertical-align: middle;\n",
       "    }\n",
       "\n",
       "    .dataframe tbody tr th {\n",
       "        vertical-align: top;\n",
       "    }\n",
       "\n",
       "    .dataframe thead th {\n",
       "        text-align: right;\n",
       "    }\n",
       "</style>\n",
       "<table border=\"1\" class=\"dataframe\">\n",
       "  <thead>\n",
       "    <tr style=\"text-align: right;\">\n",
       "      <th></th>\n",
       "      <th>transaction_id</th>\n",
       "      <th>tx_datetime</th>\n",
       "      <th>customer_id</th>\n",
       "      <th>terminal_id</th>\n",
       "      <th>tx_amount</th>\n",
       "    </tr>\n",
       "  </thead>\n",
       "  <tbody>\n",
       "    <tr>\n",
       "      <th>0</th>\n",
       "      <td>0</td>\n",
       "      <td>2023-01-01 00:00:31</td>\n",
       "      <td>596</td>\n",
       "      <td>3156</td>\n",
       "      <td>533.07</td>\n",
       "    </tr>\n",
       "    <tr>\n",
       "      <th>1</th>\n",
       "      <td>1</td>\n",
       "      <td>2023-01-01 00:02:10</td>\n",
       "      <td>4961</td>\n",
       "      <td>3412</td>\n",
       "      <td>808.56</td>\n",
       "    </tr>\n",
       "    <tr>\n",
       "      <th>2</th>\n",
       "      <td>2</td>\n",
       "      <td>2023-01-01 00:07:56</td>\n",
       "      <td>2</td>\n",
       "      <td>1365</td>\n",
       "      <td>1442.94</td>\n",
       "    </tr>\n",
       "    <tr>\n",
       "      <th>3</th>\n",
       "      <td>3</td>\n",
       "      <td>2023-01-01 00:09:29</td>\n",
       "      <td>4128</td>\n",
       "      <td>8737</td>\n",
       "      <td>620.65</td>\n",
       "    </tr>\n",
       "    <tr>\n",
       "      <th>4</th>\n",
       "      <td>4</td>\n",
       "      <td>2023-01-01 00:10:34</td>\n",
       "      <td>927</td>\n",
       "      <td>9906</td>\n",
       "      <td>490.66</td>\n",
       "    </tr>\n",
       "    <tr>\n",
       "      <th>5</th>\n",
       "      <td>5</td>\n",
       "      <td>2023-01-01 00:10:45</td>\n",
       "      <td>568</td>\n",
       "      <td>8803</td>\n",
       "      <td>401.17</td>\n",
       "    </tr>\n",
       "    <tr>\n",
       "      <th>6</th>\n",
       "      <td>6</td>\n",
       "      <td>2023-01-01 00:11:30</td>\n",
       "      <td>2803</td>\n",
       "      <td>5490</td>\n",
       "      <td>938.54</td>\n",
       "    </tr>\n",
       "    <tr>\n",
       "      <th>7</th>\n",
       "      <td>7</td>\n",
       "      <td>2023-01-01 00:11:44</td>\n",
       "      <td>4684</td>\n",
       "      <td>2486</td>\n",
       "      <td>206.53</td>\n",
       "    </tr>\n",
       "    <tr>\n",
       "      <th>8</th>\n",
       "      <td>8</td>\n",
       "      <td>2023-01-01 00:11:53</td>\n",
       "      <td>4128</td>\n",
       "      <td>8354</td>\n",
       "      <td>253.47</td>\n",
       "    </tr>\n",
       "    <tr>\n",
       "      <th>9</th>\n",
       "      <td>9</td>\n",
       "      <td>2023-01-01 00:13:44</td>\n",
       "      <td>541</td>\n",
       "      <td>6212</td>\n",
       "      <td>555.63</td>\n",
       "    </tr>\n",
       "  </tbody>\n",
       "</table>\n",
       "</div>"
      ],
      "text/plain": [
       "   transaction_id          tx_datetime  customer_id  terminal_id  tx_amount\n",
       "0               0  2023-01-01 00:00:31          596         3156     533.07\n",
       "1               1  2023-01-01 00:02:10         4961         3412     808.56\n",
       "2               2  2023-01-01 00:07:56            2         1365    1442.94\n",
       "3               3  2023-01-01 00:09:29         4128         8737     620.65\n",
       "4               4  2023-01-01 00:10:34          927         9906     490.66\n",
       "5               5  2023-01-01 00:10:45          568         8803     401.17\n",
       "6               6  2023-01-01 00:11:30         2803         5490     938.54\n",
       "7               7  2023-01-01 00:11:44         4684         2486     206.53\n",
       "8               8  2023-01-01 00:11:53         4128         8354     253.47\n",
       "9               9  2023-01-01 00:13:44          541         6212     555.63"
      ]
     },
     "execution_count": 1459,
     "metadata": {},
     "output_type": "execute_result"
    }
   ],
   "source": [
    "pd.read_sql(\n",
    "    f'''\n",
    "    SELECT * \n",
    "    FROM {transaction_table} \n",
    "    LIMIT 10\n",
    "    ''', \n",
    "    conn)"
   ]
  },
  {
   "attachments": {},
   "cell_type": "markdown",
   "metadata": {},
   "source": [
    "Создаем таблицу клиентов в БД.<br/>\n",
    "По условию, колонки должны иметь разные типы. Посмотрим на полученный результат и типы столбцов после загрузки данных из датасета."
   ]
  },
  {
   "cell_type": "code",
   "execution_count": 1460,
   "metadata": {},
   "outputs": [
    {
     "name": "stdout",
     "output_type": "stream",
     "text": [
      "Query executed successfully\n"
     ]
    }
   ],
   "source": [
    "execute_query(\n",
    "    f'''\n",
    "    CREATE TABLE IF NOT EXISTS {customer_table} (\n",
    "        client_id INTEGER,\n",
    "        start_dt NUMERIC,\n",
    "        end_dt NUMERIC,\n",
    "        client_name TEXT,\n",
    "        year_birth TEXT\n",
    "    );\n",
    "    ''',\n",
    "    conn)"
   ]
  },
  {
   "attachments": {},
   "cell_type": "markdown",
   "metadata": {},
   "source": [
    "Загружаем данные из csv в датасет"
   ]
  },
  {
   "cell_type": "code",
   "execution_count": 1461,
   "metadata": {},
   "outputs": [],
   "source": [
    "client_df = pd.read_csv('data/client_info.csv', delimiter=';')"
   ]
  },
  {
   "attachments": {},
   "cell_type": "markdown",
   "metadata": {},
   "source": [
    "Посмотрим на датасет"
   ]
  },
  {
   "cell_type": "code",
   "execution_count": 1462,
   "metadata": {},
   "outputs": [
    {
     "data": {
      "text/html": [
       "<div>\n",
       "<style scoped>\n",
       "    .dataframe tbody tr th:only-of-type {\n",
       "        vertical-align: middle;\n",
       "    }\n",
       "\n",
       "    .dataframe tbody tr th {\n",
       "        vertical-align: top;\n",
       "    }\n",
       "\n",
       "    .dataframe thead th {\n",
       "        text-align: right;\n",
       "    }\n",
       "</style>\n",
       "<table border=\"1\" class=\"dataframe\">\n",
       "  <thead>\n",
       "    <tr style=\"text-align: right;\">\n",
       "      <th></th>\n",
       "      <th>START_DT</th>\n",
       "      <th>END_DT</th>\n",
       "      <th>CLIENT_NAME</th>\n",
       "      <th>YEAR_BIRTH</th>\n",
       "      <th>CLIENT_ID</th>\n",
       "    </tr>\n",
       "  </thead>\n",
       "  <tbody>\n",
       "    <tr>\n",
       "      <th>0</th>\n",
       "      <td>2015-07-16</td>\n",
       "      <td>2021-01-01</td>\n",
       "      <td>Olivia</td>\n",
       "      <td>1979</td>\n",
       "      <td>2213</td>\n",
       "    </tr>\n",
       "    <tr>\n",
       "      <th>1</th>\n",
       "      <td>2015-07-17</td>\n",
       "      <td>2021-01-01</td>\n",
       "      <td>Emma</td>\n",
       "      <td>1979</td>\n",
       "      <td>1148</td>\n",
       "    </tr>\n",
       "    <tr>\n",
       "      <th>2</th>\n",
       "      <td>2015-07-18</td>\n",
       "      <td>2021-01-01</td>\n",
       "      <td>Charlotte</td>\n",
       "      <td>1979</td>\n",
       "      <td>2293</td>\n",
       "    </tr>\n",
       "    <tr>\n",
       "      <th>3</th>\n",
       "      <td>2015-07-19</td>\n",
       "      <td>2021-01-01</td>\n",
       "      <td>Amelia</td>\n",
       "      <td>1979</td>\n",
       "      <td>1867</td>\n",
       "    </tr>\n",
       "    <tr>\n",
       "      <th>4</th>\n",
       "      <td>2015-07-20</td>\n",
       "      <td>2021-01-01</td>\n",
       "      <td>Ava</td>\n",
       "      <td>1979</td>\n",
       "      <td>1767</td>\n",
       "    </tr>\n",
       "  </tbody>\n",
       "</table>\n",
       "</div>"
      ],
      "text/plain": [
       "     START_DT      END_DT CLIENT_NAME  YEAR_BIRTH  CLIENT_ID\n",
       "0  2015-07-16  2021-01-01      Olivia        1979       2213\n",
       "1  2015-07-17  2021-01-01        Emma        1979       1148\n",
       "2  2015-07-18  2021-01-01   Charlotte        1979       2293\n",
       "3  2015-07-19  2021-01-01      Amelia        1979       1867\n",
       "4  2015-07-20  2021-01-01         Ava        1979       1767"
      ]
     },
     "execution_count": 1462,
     "metadata": {},
     "output_type": "execute_result"
    }
   ],
   "source": [
    "client_df.head()"
   ]
  },
  {
   "cell_type": "code",
   "execution_count": 1463,
   "metadata": {},
   "outputs": [
    {
     "name": "stdout",
     "output_type": "stream",
     "text": [
      "<class 'pandas.core.frame.DataFrame'>\n",
      "RangeIndex: 4988 entries, 0 to 4987\n",
      "Data columns (total 5 columns):\n",
      " #   Column       Non-Null Count  Dtype \n",
      "---  ------       --------------  ----- \n",
      " 0   START_DT     4988 non-null   object\n",
      " 1   END_DT       4988 non-null   object\n",
      " 2   CLIENT_NAME  4988 non-null   object\n",
      " 3   YEAR_BIRTH   4988 non-null   int64 \n",
      " 4   CLIENT_ID    4988 non-null   int64 \n",
      "dtypes: int64(2), object(3)\n",
      "memory usage: 195.0+ KB\n"
     ]
    }
   ],
   "source": [
    "client_df.info()"
   ]
  },
  {
   "cell_type": "code",
   "execution_count": 1464,
   "metadata": {},
   "outputs": [
    {
     "data": {
      "text/html": [
       "<div>\n",
       "<style scoped>\n",
       "    .dataframe tbody tr th:only-of-type {\n",
       "        vertical-align: middle;\n",
       "    }\n",
       "\n",
       "    .dataframe tbody tr th {\n",
       "        vertical-align: top;\n",
       "    }\n",
       "\n",
       "    .dataframe thead th {\n",
       "        text-align: right;\n",
       "    }\n",
       "</style>\n",
       "<table border=\"1\" class=\"dataframe\">\n",
       "  <thead>\n",
       "    <tr style=\"text-align: right;\">\n",
       "      <th></th>\n",
       "      <th>START_DT</th>\n",
       "      <th>END_DT</th>\n",
       "      <th>CLIENT_NAME</th>\n",
       "      <th>YEAR_BIRTH</th>\n",
       "      <th>CLIENT_ID</th>\n",
       "    </tr>\n",
       "  </thead>\n",
       "  <tbody>\n",
       "    <tr>\n",
       "      <th>0</th>\n",
       "      <td>2015-07-16</td>\n",
       "      <td>2021-01-01</td>\n",
       "      <td>Olivia</td>\n",
       "      <td>1979</td>\n",
       "      <td>2213</td>\n",
       "    </tr>\n",
       "    <tr>\n",
       "      <th>1</th>\n",
       "      <td>2015-07-17</td>\n",
       "      <td>2021-01-01</td>\n",
       "      <td>Emma</td>\n",
       "      <td>1979</td>\n",
       "      <td>1148</td>\n",
       "    </tr>\n",
       "    <tr>\n",
       "      <th>2</th>\n",
       "      <td>2015-07-18</td>\n",
       "      <td>2021-01-01</td>\n",
       "      <td>Charlotte</td>\n",
       "      <td>1979</td>\n",
       "      <td>2293</td>\n",
       "    </tr>\n",
       "    <tr>\n",
       "      <th>3</th>\n",
       "      <td>2015-07-19</td>\n",
       "      <td>2021-01-01</td>\n",
       "      <td>Amelia</td>\n",
       "      <td>1979</td>\n",
       "      <td>1867</td>\n",
       "    </tr>\n",
       "    <tr>\n",
       "      <th>4</th>\n",
       "      <td>2015-07-20</td>\n",
       "      <td>2021-01-01</td>\n",
       "      <td>Ava</td>\n",
       "      <td>1979</td>\n",
       "      <td>1767</td>\n",
       "    </tr>\n",
       "  </tbody>\n",
       "</table>\n",
       "</div>"
      ],
      "text/plain": [
       "     START_DT      END_DT CLIENT_NAME  YEAR_BIRTH  CLIENT_ID\n",
       "0  2015-07-16  2021-01-01      Olivia        1979       2213\n",
       "1  2015-07-17  2021-01-01        Emma        1979       1148\n",
       "2  2015-07-18  2021-01-01   Charlotte        1979       2293\n",
       "3  2015-07-19  2021-01-01      Amelia        1979       1867\n",
       "4  2015-07-20  2021-01-01         Ava        1979       1767"
      ]
     },
     "execution_count": 1464,
     "metadata": {},
     "output_type": "execute_result"
    }
   ],
   "source": [
    "client_df.head()"
   ]
  },
  {
   "cell_type": "code",
   "execution_count": 1465,
   "metadata": {},
   "outputs": [
    {
     "data": {
      "text/html": [
       "<div>\n",
       "<style scoped>\n",
       "    .dataframe tbody tr th:only-of-type {\n",
       "        vertical-align: middle;\n",
       "    }\n",
       "\n",
       "    .dataframe tbody tr th {\n",
       "        vertical-align: top;\n",
       "    }\n",
       "\n",
       "    .dataframe thead th {\n",
       "        text-align: right;\n",
       "    }\n",
       "</style>\n",
       "<table border=\"1\" class=\"dataframe\">\n",
       "  <thead>\n",
       "    <tr style=\"text-align: right;\">\n",
       "      <th></th>\n",
       "      <th>START_DT</th>\n",
       "      <th>END_DT</th>\n",
       "      <th>CLIENT_NAME</th>\n",
       "      <th>YEAR_BIRTH</th>\n",
       "      <th>CLIENT_ID</th>\n",
       "    </tr>\n",
       "  </thead>\n",
       "  <tbody>\n",
       "    <tr>\n",
       "      <th>4983</th>\n",
       "      <td>2023-04-20</td>\n",
       "      <td>2999-12-31</td>\n",
       "      <td>Havilah</td>\n",
       "      <td>2000</td>\n",
       "      <td>4737</td>\n",
       "    </tr>\n",
       "    <tr>\n",
       "      <th>4984</th>\n",
       "      <td>2023-04-20</td>\n",
       "      <td>2999-12-31</td>\n",
       "      <td>Hazelyn</td>\n",
       "      <td>2000</td>\n",
       "      <td>2301</td>\n",
       "    </tr>\n",
       "    <tr>\n",
       "      <th>4985</th>\n",
       "      <td>2023-04-20</td>\n",
       "      <td>2999-12-31</td>\n",
       "      <td>Helaina</td>\n",
       "      <td>2000</td>\n",
       "      <td>3238</td>\n",
       "    </tr>\n",
       "    <tr>\n",
       "      <th>4986</th>\n",
       "      <td>2023-04-20</td>\n",
       "      <td>2999-12-31</td>\n",
       "      <td>Helene</td>\n",
       "      <td>2000</td>\n",
       "      <td>3946</td>\n",
       "    </tr>\n",
       "    <tr>\n",
       "      <th>4987</th>\n",
       "      <td>2023-04-20</td>\n",
       "      <td>2999-12-31</td>\n",
       "      <td>Idalis</td>\n",
       "      <td>2000</td>\n",
       "      <td>2853</td>\n",
       "    </tr>\n",
       "  </tbody>\n",
       "</table>\n",
       "</div>"
      ],
      "text/plain": [
       "        START_DT      END_DT CLIENT_NAME  YEAR_BIRTH  CLIENT_ID\n",
       "4983  2023-04-20  2999-12-31     Havilah        2000       4737\n",
       "4984  2023-04-20  2999-12-31     Hazelyn        2000       2301\n",
       "4985  2023-04-20  2999-12-31     Helaina        2000       3238\n",
       "4986  2023-04-20  2999-12-31      Helene        2000       3946\n",
       "4987  2023-04-20  2999-12-31      Idalis        2000       2853"
      ]
     },
     "execution_count": 1465,
     "metadata": {},
     "output_type": "execute_result"
    }
   ],
   "source": [
    "client_df.tail()"
   ]
  },
  {
   "cell_type": "code",
   "execution_count": 1466,
   "metadata": {},
   "outputs": [
    {
     "name": "stdout",
     "output_type": "stream",
     "text": [
      "<class 'pandas.core.frame.DataFrame'>\n",
      "RangeIndex: 4988 entries, 0 to 4987\n",
      "Data columns (total 5 columns):\n",
      " #   Column       Non-Null Count  Dtype \n",
      "---  ------       --------------  ----- \n",
      " 0   START_DT     4988 non-null   object\n",
      " 1   END_DT       4988 non-null   object\n",
      " 2   CLIENT_NAME  4988 non-null   object\n",
      " 3   YEAR_BIRTH   4988 non-null   int64 \n",
      " 4   CLIENT_ID    4988 non-null   int64 \n",
      "dtypes: int64(2), object(3)\n",
      "memory usage: 195.0+ KB\n"
     ]
    }
   ],
   "source": [
    "client_df.info()"
   ]
  },
  {
   "attachments": {},
   "cell_type": "markdown",
   "metadata": {},
   "source": [
    "Загружаем данные из датасета в таблицу БД"
   ]
  },
  {
   "cell_type": "code",
   "execution_count": 1467,
   "metadata": {},
   "outputs": [
    {
     "name": "stdout",
     "output_type": "stream",
     "text": [
      "Data inserted successfully\n"
     ]
    }
   ],
   "source": [
    "sql_insert(client_df, customer_table, conn, 0, client_df.shape[1])"
   ]
  },
  {
   "attachments": {},
   "cell_type": "markdown",
   "metadata": {},
   "source": [
    "Проверяем соответствие атрибутов условию"
   ]
  },
  {
   "cell_type": "code",
   "execution_count": 1468,
   "metadata": {},
   "outputs": [
    {
     "name": "stdout",
     "output_type": "stream",
     "text": [
      "(0, 'client_id', 'INTEGER', 0, None, 0)\n",
      "(1, 'start_dt', 'NUMERIC', 0, None, 0)\n",
      "(2, 'end_dt', 'NUMERIC', 0, None, 0)\n",
      "(3, 'client_name', 'TEXT', 0, None, 0)\n",
      "(4, 'year_birth', 'TEXT', 0, None, 0)\n"
     ]
    }
   ],
   "source": [
    "table_info(customer_table, conn)"
   ]
  },
  {
   "attachments": {},
   "cell_type": "markdown",
   "metadata": {},
   "source": [
    "Выберем 10 записей из таблицы и посмотрим на результат"
   ]
  },
  {
   "cell_type": "code",
   "execution_count": 1469,
   "metadata": {},
   "outputs": [
    {
     "data": {
      "text/html": [
       "<div>\n",
       "<style scoped>\n",
       "    .dataframe tbody tr th:only-of-type {\n",
       "        vertical-align: middle;\n",
       "    }\n",
       "\n",
       "    .dataframe tbody tr th {\n",
       "        vertical-align: top;\n",
       "    }\n",
       "\n",
       "    .dataframe thead th {\n",
       "        text-align: right;\n",
       "    }\n",
       "</style>\n",
       "<table border=\"1\" class=\"dataframe\">\n",
       "  <thead>\n",
       "    <tr style=\"text-align: right;\">\n",
       "      <th></th>\n",
       "      <th>client_id</th>\n",
       "      <th>start_dt</th>\n",
       "      <th>end_dt</th>\n",
       "      <th>client_name</th>\n",
       "      <th>year_birth</th>\n",
       "    </tr>\n",
       "  </thead>\n",
       "  <tbody>\n",
       "    <tr>\n",
       "      <th>0</th>\n",
       "      <td>2213</td>\n",
       "      <td>2015-07-16</td>\n",
       "      <td>2021-01-01</td>\n",
       "      <td>Olivia</td>\n",
       "      <td>1979</td>\n",
       "    </tr>\n",
       "    <tr>\n",
       "      <th>1</th>\n",
       "      <td>1148</td>\n",
       "      <td>2015-07-17</td>\n",
       "      <td>2021-01-01</td>\n",
       "      <td>Emma</td>\n",
       "      <td>1979</td>\n",
       "    </tr>\n",
       "    <tr>\n",
       "      <th>2</th>\n",
       "      <td>2293</td>\n",
       "      <td>2015-07-18</td>\n",
       "      <td>2021-01-01</td>\n",
       "      <td>Charlotte</td>\n",
       "      <td>1979</td>\n",
       "    </tr>\n",
       "    <tr>\n",
       "      <th>3</th>\n",
       "      <td>1867</td>\n",
       "      <td>2015-07-19</td>\n",
       "      <td>2021-01-01</td>\n",
       "      <td>Amelia</td>\n",
       "      <td>1979</td>\n",
       "    </tr>\n",
       "    <tr>\n",
       "      <th>4</th>\n",
       "      <td>1767</td>\n",
       "      <td>2015-07-20</td>\n",
       "      <td>2021-01-01</td>\n",
       "      <td>Ava</td>\n",
       "      <td>1979</td>\n",
       "    </tr>\n",
       "    <tr>\n",
       "      <th>5</th>\n",
       "      <td>3853</td>\n",
       "      <td>2015-07-21</td>\n",
       "      <td>2021-01-01</td>\n",
       "      <td>Sophia</td>\n",
       "      <td>1979</td>\n",
       "    </tr>\n",
       "    <tr>\n",
       "      <th>6</th>\n",
       "      <td>1605</td>\n",
       "      <td>2015-07-22</td>\n",
       "      <td>2021-01-01</td>\n",
       "      <td>Isabella</td>\n",
       "      <td>1979</td>\n",
       "    </tr>\n",
       "    <tr>\n",
       "      <th>7</th>\n",
       "      <td>3273</td>\n",
       "      <td>2015-07-23</td>\n",
       "      <td>2021-01-01</td>\n",
       "      <td>Mia</td>\n",
       "      <td>1979</td>\n",
       "    </tr>\n",
       "    <tr>\n",
       "      <th>8</th>\n",
       "      <td>147</td>\n",
       "      <td>2015-07-24</td>\n",
       "      <td>2021-01-01</td>\n",
       "      <td>Evelyn</td>\n",
       "      <td>1979</td>\n",
       "    </tr>\n",
       "    <tr>\n",
       "      <th>9</th>\n",
       "      <td>1420</td>\n",
       "      <td>2015-07-25</td>\n",
       "      <td>2021-01-01</td>\n",
       "      <td>Harper</td>\n",
       "      <td>1979</td>\n",
       "    </tr>\n",
       "  </tbody>\n",
       "</table>\n",
       "</div>"
      ],
      "text/plain": [
       "   client_id    start_dt      end_dt client_name year_birth\n",
       "0       2213  2015-07-16  2021-01-01      Olivia       1979\n",
       "1       1148  2015-07-17  2021-01-01        Emma       1979\n",
       "2       2293  2015-07-18  2021-01-01   Charlotte       1979\n",
       "3       1867  2015-07-19  2021-01-01      Amelia       1979\n",
       "4       1767  2015-07-20  2021-01-01         Ava       1979\n",
       "5       3853  2015-07-21  2021-01-01      Sophia       1979\n",
       "6       1605  2015-07-22  2021-01-01    Isabella       1979\n",
       "7       3273  2015-07-23  2021-01-01         Mia       1979\n",
       "8        147  2015-07-24  2021-01-01      Evelyn       1979\n",
       "9       1420  2015-07-25  2021-01-01      Harper       1979"
      ]
     },
     "execution_count": 1469,
     "metadata": {},
     "output_type": "execute_result"
    }
   ],
   "source": [
    "pd.read_sql(\n",
    "    f'''\n",
    "    SELECT * \n",
    "    FROM {customer_table} \n",
    "    LIMIT 10\n",
    "    ''', \n",
    "    conn)"
   ]
  },
  {
   "attachments": {},
   "cell_type": "markdown",
   "metadata": {},
   "source": [
    "## Шаг 2"
   ]
  },
  {
   "attachments": {},
   "cell_type": "markdown",
   "metadata": {},
   "source": [
    "> **(Балл - 1 за каждый пункт)** Написать скрипты:"
   ]
  },
  {
   "attachments": {},
   "cell_type": "markdown",
   "metadata": {},
   "source": [
    "> **a**. Найти имя клиента/клиентов с максимальной суммой транзакций за весь период (клиент должен быть действующим, то есть дата закрытия записи о клиенте не должна быть меньше дня относительно которого мы считаемся)."
   ]
  },
  {
   "cell_type": "code",
   "execution_count": 1470,
   "metadata": {},
   "outputs": [
    {
     "data": {
      "text/html": [
       "<div>\n",
       "<style scoped>\n",
       "    .dataframe tbody tr th:only-of-type {\n",
       "        vertical-align: middle;\n",
       "    }\n",
       "\n",
       "    .dataframe tbody tr th {\n",
       "        vertical-align: top;\n",
       "    }\n",
       "\n",
       "    .dataframe thead th {\n",
       "        text-align: right;\n",
       "    }\n",
       "</style>\n",
       "<table border=\"1\" class=\"dataframe\">\n",
       "  <thead>\n",
       "    <tr style=\"text-align: right;\">\n",
       "      <th></th>\n",
       "      <th>customer_id</th>\n",
       "      <th>client_name</th>\n",
       "      <th>max_sum</th>\n",
       "      <th>end_dt</th>\n",
       "    </tr>\n",
       "  </thead>\n",
       "  <tbody>\n",
       "    <tr>\n",
       "      <th>0</th>\n",
       "      <td>2891</td>\n",
       "      <td>Kylee</td>\n",
       "      <td>786115.87</td>\n",
       "      <td>2999-12-31</td>\n",
       "    </tr>\n",
       "  </tbody>\n",
       "</table>\n",
       "</div>"
      ],
      "text/plain": [
       "   customer_id client_name    max_sum      end_dt\n",
       "0         2891       Kylee  786115.87  2999-12-31"
      ]
     },
     "execution_count": 1470,
     "metadata": {},
     "output_type": "execute_result"
    }
   ],
   "source": [
    "pd.read_sql(\n",
    "    f'''\n",
    "    SELECT \n",
    "        tmp.customer_id,\n",
    "        ct.client_name AS client_name, \n",
    "        MAX(tmp.tx_sum) AS max_sum, \n",
    "        DATE(ct.end_dt) AS end_dt\n",
    "    FROM (\n",
    "        SELECT\n",
    "            customer_id, \n",
    "            SUM(coalesce(tx_amount,0)) AS tx_sum\n",
    "        FROM \n",
    "            {transaction_table}\n",
    "        GROUP BY\n",
    "            customer_id\n",
    "        ) AS tmp\n",
    "    JOIN {customer_table} AS ct\n",
    "        ON tmp.customer_id = ct.client_id\n",
    "        AND DATE(ct.end_dt) >= DATE('{default_date}')\n",
    "    ''', \n",
    "conn)"
   ]
  },
  {
   "attachments": {},
   "cell_type": "markdown",
   "metadata": {},
   "source": [
    "> **b**. Найти имя клиента/клиентов с минимальной суммой транзакций за весь период (клиент должен быть действующим, то есть дата закрытия записи о клиенте не должна быть меньше дня относительно которого мы считаемся)."
   ]
  },
  {
   "cell_type": "code",
   "execution_count": 1471,
   "metadata": {},
   "outputs": [
    {
     "data": {
      "text/html": [
       "<div>\n",
       "<style scoped>\n",
       "    .dataframe tbody tr th:only-of-type {\n",
       "        vertical-align: middle;\n",
       "    }\n",
       "\n",
       "    .dataframe tbody tr th {\n",
       "        vertical-align: top;\n",
       "    }\n",
       "\n",
       "    .dataframe thead th {\n",
       "        text-align: right;\n",
       "    }\n",
       "</style>\n",
       "<table border=\"1\" class=\"dataframe\">\n",
       "  <thead>\n",
       "    <tr style=\"text-align: right;\">\n",
       "      <th></th>\n",
       "      <th>client_name</th>\n",
       "      <th>min_sum</th>\n",
       "      <th>end_dt</th>\n",
       "    </tr>\n",
       "  </thead>\n",
       "  <tbody>\n",
       "    <tr>\n",
       "      <th>0</th>\n",
       "      <td>Kloe</td>\n",
       "      <td>30.48</td>\n",
       "      <td>2999-12-31</td>\n",
       "    </tr>\n",
       "  </tbody>\n",
       "</table>\n",
       "</div>"
      ],
      "text/plain": [
       "  client_name  min_sum      end_dt\n",
       "0        Kloe    30.48  2999-12-31"
      ]
     },
     "execution_count": 1471,
     "metadata": {},
     "output_type": "execute_result"
    }
   ],
   "source": [
    "pd.read_sql(\n",
    "    f'''\n",
    "    SELECT \n",
    "        ct.client_name, \n",
    "        MIN(tx.tx_sum) AS min_sum, \n",
    "        DATE(ct.end_dt) AS end_dt \n",
    "    FROM (\n",
    "        SELECT\n",
    "            customer_id, \n",
    "            SUM(coalesce(tx_amount,0)) AS tx_sum\n",
    "        FROM \n",
    "            {transaction_table}\n",
    "        GROUP BY\n",
    "            customer_id\n",
    "    ) AS tx \n",
    "    LEFT JOIN {customer_table} AS ct\n",
    "        ON tx.customer_id = ct.client_id\n",
    "    WHERE DATE(ct.end_dt) >= DATE('{default_date}')\n",
    "    ''', \n",
    "conn)"
   ]
  },
  {
   "attachments": {},
   "cell_type": "markdown",
   "metadata": {},
   "source": [
    "> **c**. Найти сумму транзакций относительно даты 2023-04-01 для клиентов, у которых id начинается с 111 (клиент должен быть действующим, то есть дата закрытия записи о клиенте не должна быть меньше дня относительно которого мы считаемся). Транзакции учитываются только после завершении дня."
   ]
  },
  {
   "cell_type": "code",
   "execution_count": 1472,
   "metadata": {},
   "outputs": [
    {
     "data": {
      "text/html": [
       "<div>\n",
       "<style scoped>\n",
       "    .dataframe tbody tr th:only-of-type {\n",
       "        vertical-align: middle;\n",
       "    }\n",
       "\n",
       "    .dataframe tbody tr th {\n",
       "        vertical-align: top;\n",
       "    }\n",
       "\n",
       "    .dataframe thead th {\n",
       "        text-align: right;\n",
       "    }\n",
       "</style>\n",
       "<table border=\"1\" class=\"dataframe\">\n",
       "  <thead>\n",
       "    <tr style=\"text-align: right;\">\n",
       "      <th></th>\n",
       "      <th>customer_id</th>\n",
       "      <th>tx_sum</th>\n",
       "    </tr>\n",
       "  </thead>\n",
       "  <tbody>\n",
       "    <tr>\n",
       "      <th>0</th>\n",
       "      <td>1112</td>\n",
       "      <td>35273.16</td>\n",
       "    </tr>\n",
       "    <tr>\n",
       "      <th>1</th>\n",
       "      <td>1113</td>\n",
       "      <td>229558.85</td>\n",
       "    </tr>\n",
       "    <tr>\n",
       "      <th>2</th>\n",
       "      <td>1114</td>\n",
       "      <td>108622.52</td>\n",
       "    </tr>\n",
       "    <tr>\n",
       "      <th>3</th>\n",
       "      <td>1115</td>\n",
       "      <td>38690.76</td>\n",
       "    </tr>\n",
       "    <tr>\n",
       "      <th>4</th>\n",
       "      <td>1116</td>\n",
       "      <td>191203.59</td>\n",
       "    </tr>\n",
       "    <tr>\n",
       "      <th>5</th>\n",
       "      <td>1117</td>\n",
       "      <td>52751.58</td>\n",
       "    </tr>\n",
       "    <tr>\n",
       "      <th>6</th>\n",
       "      <td>1118</td>\n",
       "      <td>353003.39</td>\n",
       "    </tr>\n",
       "    <tr>\n",
       "      <th>7</th>\n",
       "      <td>1119</td>\n",
       "      <td>221192.71</td>\n",
       "    </tr>\n",
       "  </tbody>\n",
       "</table>\n",
       "</div>"
      ],
      "text/plain": [
       "   customer_id     tx_sum\n",
       "0         1112   35273.16\n",
       "1         1113  229558.85\n",
       "2         1114  108622.52\n",
       "3         1115   38690.76\n",
       "4         1116  191203.59\n",
       "5         1117   52751.58\n",
       "6         1118  353003.39\n",
       "7         1119  221192.71"
      ]
     },
     "execution_count": 1472,
     "metadata": {},
     "output_type": "execute_result"
    }
   ],
   "source": [
    "pd.read_sql(\n",
    "    f'''\n",
    "    SELECT\n",
    "        tx.customer_id, \n",
    "        SUM(coalesce(tx.tx_amount,0)) AS tx_sum\n",
    "    FROM \n",
    "        {transaction_table} as tx\n",
    "    INNER JOIN (\n",
    "        SELECT\n",
    "            client_id\n",
    "        FROM {customer_table}\n",
    "        WHERE client_id LIKE '111%'\n",
    "            AND DATE(end_dt) >= DATE('{default_date}')\n",
    "    ) AS ct\n",
    "        ON tx.customer_id = ct.client_id\n",
    "    WHERE DATE(tx_datetime) < '2023-04-01'\n",
    "    GROUP BY\n",
    "        tx.customer_id\n",
    "    ''', \n",
    "conn)"
   ]
  },
  {
   "attachments": {},
   "cell_type": "markdown",
   "metadata": {},
   "source": [
    "> **d**. Найти сумму транзакций относительно года рождения клиентов (клиент должен быть действующим, то есть дата закрытия записи о клиенте не должна быть меньше дня относительно которого мы считаемся). Сортировать по убыванию года рождения."
   ]
  },
  {
   "cell_type": "code",
   "execution_count": 1473,
   "metadata": {},
   "outputs": [
    {
     "data": {
      "text/html": [
       "<div>\n",
       "<style scoped>\n",
       "    .dataframe tbody tr th:only-of-type {\n",
       "        vertical-align: middle;\n",
       "    }\n",
       "\n",
       "    .dataframe tbody tr th {\n",
       "        vertical-align: top;\n",
       "    }\n",
       "\n",
       "    .dataframe thead th {\n",
       "        text-align: right;\n",
       "    }\n",
       "</style>\n",
       "<table border=\"1\" class=\"dataframe\">\n",
       "  <thead>\n",
       "    <tr style=\"text-align: right;\">\n",
       "      <th></th>\n",
       "      <th>year_birth</th>\n",
       "      <th>tx_sum</th>\n",
       "    </tr>\n",
       "  </thead>\n",
       "  <tbody>\n",
       "    <tr>\n",
       "      <th>0</th>\n",
       "      <td>2000</td>\n",
       "      <td>8.632720e+07</td>\n",
       "    </tr>\n",
       "    <tr>\n",
       "      <th>1</th>\n",
       "      <td>1999</td>\n",
       "      <td>1.041507e+06</td>\n",
       "    </tr>\n",
       "    <tr>\n",
       "      <th>2</th>\n",
       "      <td>1998</td>\n",
       "      <td>6.016750e+05</td>\n",
       "    </tr>\n",
       "    <tr>\n",
       "      <th>3</th>\n",
       "      <td>1997</td>\n",
       "      <td>8.479943e+06</td>\n",
       "    </tr>\n",
       "    <tr>\n",
       "      <th>4</th>\n",
       "      <td>1996</td>\n",
       "      <td>1.483253e+06</td>\n",
       "    </tr>\n",
       "    <tr>\n",
       "      <th>5</th>\n",
       "      <td>1995</td>\n",
       "      <td>6.321200e+06</td>\n",
       "    </tr>\n",
       "    <tr>\n",
       "      <th>6</th>\n",
       "      <td>1994</td>\n",
       "      <td>6.244281e+06</td>\n",
       "    </tr>\n",
       "    <tr>\n",
       "      <th>7</th>\n",
       "      <td>1993</td>\n",
       "      <td>5.732058e+06</td>\n",
       "    </tr>\n",
       "    <tr>\n",
       "      <th>8</th>\n",
       "      <td>1992</td>\n",
       "      <td>5.251433e+06</td>\n",
       "    </tr>\n",
       "    <tr>\n",
       "      <th>9</th>\n",
       "      <td>1991</td>\n",
       "      <td>7.141074e+06</td>\n",
       "    </tr>\n",
       "    <tr>\n",
       "      <th>10</th>\n",
       "      <td>1990</td>\n",
       "      <td>6.617600e+06</td>\n",
       "    </tr>\n",
       "    <tr>\n",
       "      <th>11</th>\n",
       "      <td>1989</td>\n",
       "      <td>6.303724e+06</td>\n",
       "    </tr>\n",
       "    <tr>\n",
       "      <th>12</th>\n",
       "      <td>1988</td>\n",
       "      <td>7.471930e+06</td>\n",
       "    </tr>\n",
       "    <tr>\n",
       "      <th>13</th>\n",
       "      <td>1987</td>\n",
       "      <td>6.629354e+06</td>\n",
       "    </tr>\n",
       "    <tr>\n",
       "      <th>14</th>\n",
       "      <td>1986</td>\n",
       "      <td>5.026131e+06</td>\n",
       "    </tr>\n",
       "    <tr>\n",
       "      <th>15</th>\n",
       "      <td>1985</td>\n",
       "      <td>6.742343e+06</td>\n",
       "    </tr>\n",
       "    <tr>\n",
       "      <th>16</th>\n",
       "      <td>1984</td>\n",
       "      <td>7.277775e+06</td>\n",
       "    </tr>\n",
       "    <tr>\n",
       "      <th>17</th>\n",
       "      <td>1983</td>\n",
       "      <td>3.390720e+05</td>\n",
       "    </tr>\n",
       "    <tr>\n",
       "      <th>18</th>\n",
       "      <td>1982</td>\n",
       "      <td>1.370953e+07</td>\n",
       "    </tr>\n",
       "    <tr>\n",
       "      <th>19</th>\n",
       "      <td>1981</td>\n",
       "      <td>5.321970e+06</td>\n",
       "    </tr>\n",
       "    <tr>\n",
       "      <th>20</th>\n",
       "      <td>1980</td>\n",
       "      <td>9.232299e+06</td>\n",
       "    </tr>\n",
       "    <tr>\n",
       "      <th>21</th>\n",
       "      <td>1979</td>\n",
       "      <td>5.679293e+06</td>\n",
       "    </tr>\n",
       "    <tr>\n",
       "      <th>22</th>\n",
       "      <td>1978</td>\n",
       "      <td>4.994142e+06</td>\n",
       "    </tr>\n",
       "    <tr>\n",
       "      <th>23</th>\n",
       "      <td>1977</td>\n",
       "      <td>1.033847e+07</td>\n",
       "    </tr>\n",
       "    <tr>\n",
       "      <th>24</th>\n",
       "      <td>1976</td>\n",
       "      <td>1.166613e+07</td>\n",
       "    </tr>\n",
       "    <tr>\n",
       "      <th>25</th>\n",
       "      <td>1975</td>\n",
       "      <td>6.553701e+06</td>\n",
       "    </tr>\n",
       "    <tr>\n",
       "      <th>26</th>\n",
       "      <td>1974</td>\n",
       "      <td>1.017395e+07</td>\n",
       "    </tr>\n",
       "    <tr>\n",
       "      <th>27</th>\n",
       "      <td>1973</td>\n",
       "      <td>1.087546e+07</td>\n",
       "    </tr>\n",
       "    <tr>\n",
       "      <th>28</th>\n",
       "      <td>1972</td>\n",
       "      <td>1.064925e+07</td>\n",
       "    </tr>\n",
       "    <tr>\n",
       "      <th>29</th>\n",
       "      <td>1971</td>\n",
       "      <td>7.283032e+06</td>\n",
       "    </tr>\n",
       "    <tr>\n",
       "      <th>30</th>\n",
       "      <td>1970</td>\n",
       "      <td>1.001276e+07</td>\n",
       "    </tr>\n",
       "    <tr>\n",
       "      <th>31</th>\n",
       "      <td>1969</td>\n",
       "      <td>6.179550e+06</td>\n",
       "    </tr>\n",
       "    <tr>\n",
       "      <th>32</th>\n",
       "      <td>1968</td>\n",
       "      <td>4.071247e+06</td>\n",
       "    </tr>\n",
       "    <tr>\n",
       "      <th>33</th>\n",
       "      <td>1967</td>\n",
       "      <td>5.794270e+06</td>\n",
       "    </tr>\n",
       "    <tr>\n",
       "      <th>34</th>\n",
       "      <td>1966</td>\n",
       "      <td>6.082267e+06</td>\n",
       "    </tr>\n",
       "    <tr>\n",
       "      <th>35</th>\n",
       "      <td>1965</td>\n",
       "      <td>7.134139e+06</td>\n",
       "    </tr>\n",
       "    <tr>\n",
       "      <th>36</th>\n",
       "      <td>1964</td>\n",
       "      <td>5.290190e+06</td>\n",
       "    </tr>\n",
       "    <tr>\n",
       "      <th>37</th>\n",
       "      <td>1963</td>\n",
       "      <td>3.226323e+06</td>\n",
       "    </tr>\n",
       "    <tr>\n",
       "      <th>38</th>\n",
       "      <td>1962</td>\n",
       "      <td>5.265542e+06</td>\n",
       "    </tr>\n",
       "    <tr>\n",
       "      <th>39</th>\n",
       "      <td>1961</td>\n",
       "      <td>6.148675e+06</td>\n",
       "    </tr>\n",
       "    <tr>\n",
       "      <th>40</th>\n",
       "      <td>1960</td>\n",
       "      <td>7.246808e+06</td>\n",
       "    </tr>\n",
       "    <tr>\n",
       "      <th>41</th>\n",
       "      <td>1959</td>\n",
       "      <td>4.687554e+06</td>\n",
       "    </tr>\n",
       "    <tr>\n",
       "      <th>42</th>\n",
       "      <td>1956</td>\n",
       "      <td>7.040369e+06</td>\n",
       "    </tr>\n",
       "    <tr>\n",
       "      <th>43</th>\n",
       "      <td>1955</td>\n",
       "      <td>8.447784e+06</td>\n",
       "    </tr>\n",
       "    <tr>\n",
       "      <th>44</th>\n",
       "      <td>1954</td>\n",
       "      <td>8.012532e+06</td>\n",
       "    </tr>\n",
       "    <tr>\n",
       "      <th>45</th>\n",
       "      <td>1953</td>\n",
       "      <td>5.232320e+06</td>\n",
       "    </tr>\n",
       "    <tr>\n",
       "      <th>46</th>\n",
       "      <td>1952</td>\n",
       "      <td>7.365438e+06</td>\n",
       "    </tr>\n",
       "    <tr>\n",
       "      <th>47</th>\n",
       "      <td>1951</td>\n",
       "      <td>7.790147e+06</td>\n",
       "    </tr>\n",
       "    <tr>\n",
       "      <th>48</th>\n",
       "      <td>1950</td>\n",
       "      <td>4.231090e+06</td>\n",
       "    </tr>\n",
       "    <tr>\n",
       "      <th>49</th>\n",
       "      <td>1949</td>\n",
       "      <td>3.751344e+06</td>\n",
       "    </tr>\n",
       "    <tr>\n",
       "      <th>50</th>\n",
       "      <td>1948</td>\n",
       "      <td>1.199585e+06</td>\n",
       "    </tr>\n",
       "    <tr>\n",
       "      <th>51</th>\n",
       "      <td>1947</td>\n",
       "      <td>2.063515e+06</td>\n",
       "    </tr>\n",
       "    <tr>\n",
       "      <th>52</th>\n",
       "      <td>1946</td>\n",
       "      <td>1.780709e+06</td>\n",
       "    </tr>\n",
       "    <tr>\n",
       "      <th>53</th>\n",
       "      <td>1945</td>\n",
       "      <td>2.579708e+05</td>\n",
       "    </tr>\n",
       "  </tbody>\n",
       "</table>\n",
       "</div>"
      ],
      "text/plain": [
       "   year_birth        tx_sum\n",
       "0        2000  8.632720e+07\n",
       "1        1999  1.041507e+06\n",
       "2        1998  6.016750e+05\n",
       "3        1997  8.479943e+06\n",
       "4        1996  1.483253e+06\n",
       "5        1995  6.321200e+06\n",
       "6        1994  6.244281e+06\n",
       "7        1993  5.732058e+06\n",
       "8        1992  5.251433e+06\n",
       "9        1991  7.141074e+06\n",
       "10       1990  6.617600e+06\n",
       "11       1989  6.303724e+06\n",
       "12       1988  7.471930e+06\n",
       "13       1987  6.629354e+06\n",
       "14       1986  5.026131e+06\n",
       "15       1985  6.742343e+06\n",
       "16       1984  7.277775e+06\n",
       "17       1983  3.390720e+05\n",
       "18       1982  1.370953e+07\n",
       "19       1981  5.321970e+06\n",
       "20       1980  9.232299e+06\n",
       "21       1979  5.679293e+06\n",
       "22       1978  4.994142e+06\n",
       "23       1977  1.033847e+07\n",
       "24       1976  1.166613e+07\n",
       "25       1975  6.553701e+06\n",
       "26       1974  1.017395e+07\n",
       "27       1973  1.087546e+07\n",
       "28       1972  1.064925e+07\n",
       "29       1971  7.283032e+06\n",
       "30       1970  1.001276e+07\n",
       "31       1969  6.179550e+06\n",
       "32       1968  4.071247e+06\n",
       "33       1967  5.794270e+06\n",
       "34       1966  6.082267e+06\n",
       "35       1965  7.134139e+06\n",
       "36       1964  5.290190e+06\n",
       "37       1963  3.226323e+06\n",
       "38       1962  5.265542e+06\n",
       "39       1961  6.148675e+06\n",
       "40       1960  7.246808e+06\n",
       "41       1959  4.687554e+06\n",
       "42       1956  7.040369e+06\n",
       "43       1955  8.447784e+06\n",
       "44       1954  8.012532e+06\n",
       "45       1953  5.232320e+06\n",
       "46       1952  7.365438e+06\n",
       "47       1951  7.790147e+06\n",
       "48       1950  4.231090e+06\n",
       "49       1949  3.751344e+06\n",
       "50       1948  1.199585e+06\n",
       "51       1947  2.063515e+06\n",
       "52       1946  1.780709e+06\n",
       "53       1945  2.579708e+05"
      ]
     },
     "execution_count": 1473,
     "metadata": {},
     "output_type": "execute_result"
    }
   ],
   "source": [
    "pd.read_sql(\n",
    "    f'''\n",
    "    SELECT\n",
    "        ct.year_birth, \n",
    "        SUM(coalesce(tx.tx_amount,0)) AS tx_sum\n",
    "    FROM \n",
    "        {transaction_table} AS tx\n",
    "    INNER JOIN (\n",
    "        SELECT\n",
    "            client_id, \n",
    "            year_birth\n",
    "        FROM {customer_table}\n",
    "        WHERE DATE(end_dt) >= DATE('{default_date}')\n",
    "    ) AS ct\n",
    "        ON tx.customer_id = ct.client_id\n",
    "    GROUP BY\n",
    "        ct.year_birth\n",
    "    ORDER BY\n",
    "        ct.year_birth DESC\n",
    "    ''', \n",
    "conn)"
   ]
  },
  {
   "attachments": {},
   "cell_type": "markdown",
   "metadata": {},
   "source": [
    "> **e**. Найти количество транзакций для каждого клиента (клиент должен быть действующим, то есть дата закрытия записи о клиенте не должна быть меньше дня относительно которого мы считаемся). Сортировать по убыванию количества транзакций."
   ]
  },
  {
   "cell_type": "code",
   "execution_count": 1474,
   "metadata": {},
   "outputs": [
    {
     "data": {
      "text/html": [
       "<div>\n",
       "<style scoped>\n",
       "    .dataframe tbody tr th:only-of-type {\n",
       "        vertical-align: middle;\n",
       "    }\n",
       "\n",
       "    .dataframe tbody tr th {\n",
       "        vertical-align: top;\n",
       "    }\n",
       "\n",
       "    .dataframe thead th {\n",
       "        text-align: right;\n",
       "    }\n",
       "</style>\n",
       "<table border=\"1\" class=\"dataframe\">\n",
       "  <thead>\n",
       "    <tr style=\"text-align: right;\">\n",
       "      <th></th>\n",
       "      <th>client_id</th>\n",
       "      <th>client_name</th>\n",
       "      <th>tx_count</th>\n",
       "    </tr>\n",
       "  </thead>\n",
       "  <tbody>\n",
       "    <tr>\n",
       "      <th>0</th>\n",
       "      <td>2891</td>\n",
       "      <td>Kylee</td>\n",
       "      <td>477</td>\n",
       "    </tr>\n",
       "    <tr>\n",
       "      <th>1</th>\n",
       "      <td>2580</td>\n",
       "      <td>Cerenity</td>\n",
       "      <td>464</td>\n",
       "    </tr>\n",
       "    <tr>\n",
       "      <th>2</th>\n",
       "      <td>1953</td>\n",
       "      <td>Adara</td>\n",
       "      <td>455</td>\n",
       "    </tr>\n",
       "    <tr>\n",
       "      <th>3</th>\n",
       "      <td>2932</td>\n",
       "      <td>Michaela</td>\n",
       "      <td>454</td>\n",
       "    </tr>\n",
       "    <tr>\n",
       "      <th>4</th>\n",
       "      <td>3864</td>\n",
       "      <td>Claire</td>\n",
       "      <td>453</td>\n",
       "    </tr>\n",
       "    <tr>\n",
       "      <th>...</th>\n",
       "      <td>...</td>\n",
       "      <td>...</td>\n",
       "      <td>...</td>\n",
       "    </tr>\n",
       "    <tr>\n",
       "      <th>3731</th>\n",
       "      <td>1976</td>\n",
       "      <td>Becky</td>\n",
       "      <td>1</td>\n",
       "    </tr>\n",
       "    <tr>\n",
       "      <th>3732</th>\n",
       "      <td>1942</td>\n",
       "      <td>Perel</td>\n",
       "      <td>1</td>\n",
       "    </tr>\n",
       "    <tr>\n",
       "      <th>3733</th>\n",
       "      <td>1880</td>\n",
       "      <td>Roman</td>\n",
       "      <td>1</td>\n",
       "    </tr>\n",
       "    <tr>\n",
       "      <th>3734</th>\n",
       "      <td>1095</td>\n",
       "      <td>Marisa</td>\n",
       "      <td>1</td>\n",
       "    </tr>\n",
       "    <tr>\n",
       "      <th>3735</th>\n",
       "      <td>822</td>\n",
       "      <td>Jaime</td>\n",
       "      <td>1</td>\n",
       "    </tr>\n",
       "  </tbody>\n",
       "</table>\n",
       "<p>3736 rows × 3 columns</p>\n",
       "</div>"
      ],
      "text/plain": [
       "      client_id client_name  tx_count\n",
       "0          2891       Kylee       477\n",
       "1          2580    Cerenity       464\n",
       "2          1953       Adara       455\n",
       "3          2932    Michaela       454\n",
       "4          3864      Claire       453\n",
       "...         ...         ...       ...\n",
       "3731       1976       Becky         1\n",
       "3732       1942       Perel         1\n",
       "3733       1880       Roman         1\n",
       "3734       1095      Marisa         1\n",
       "3735        822       Jaime         1\n",
       "\n",
       "[3736 rows x 3 columns]"
      ]
     },
     "execution_count": 1474,
     "metadata": {},
     "output_type": "execute_result"
    }
   ],
   "source": [
    "pd.read_sql(\n",
    "    f'''\n",
    "    SELECT\n",
    "        ct.client_id, \n",
    "        ct.client_name, \n",
    "        COUNT(tx.transaction_id) AS tx_count\n",
    "    FROM \n",
    "        {transaction_table} AS tx\n",
    "    INNER JOIN (\n",
    "        SELECT\n",
    "            client_id, \n",
    "            client_name\n",
    "        FROM {customer_table}\n",
    "        WHERE DATE(end_dt) >= DATE('{default_date}')\n",
    "    ) AS ct\n",
    "        ON tx.customer_id = ct.client_id\n",
    "    GROUP BY\n",
    "        ct.client_id\n",
    "    ORDER BY\n",
    "        COUNT(tx.transaction_id) DESC\n",
    "    ''', \n",
    "conn)"
   ]
  },
  {
   "attachments": {},
   "cell_type": "markdown",
   "metadata": {},
   "source": [
    "## Шаг 3"
   ]
  },
  {
   "attachments": {},
   "cell_type": "markdown",
   "metadata": {},
   "source": [
    "> **(Балл - 3)** Найти сумму транзакций за каждый месяц (январь, февраль, март, апрель) для всех клиентов (клиент должен быть действующим, то есть дата закрытия записи о клиенте не должна быть меньше дня относительно которого мы считаемся)."
   ]
  },
  {
   "cell_type": "code",
   "execution_count": 1475,
   "metadata": {},
   "outputs": [
    {
     "data": {
      "text/html": [
       "<div>\n",
       "<style scoped>\n",
       "    .dataframe tbody tr th:only-of-type {\n",
       "        vertical-align: middle;\n",
       "    }\n",
       "\n",
       "    .dataframe tbody tr th {\n",
       "        vertical-align: top;\n",
       "    }\n",
       "\n",
       "    .dataframe thead th {\n",
       "        text-align: right;\n",
       "    }\n",
       "</style>\n",
       "<table border=\"1\" class=\"dataframe\">\n",
       "  <thead>\n",
       "    <tr style=\"text-align: right;\">\n",
       "      <th></th>\n",
       "      <th>tx_month</th>\n",
       "      <th>tx_sum</th>\n",
       "    </tr>\n",
       "  </thead>\n",
       "  <tbody>\n",
       "    <tr>\n",
       "      <th>0</th>\n",
       "      <td>01</td>\n",
       "      <td>1.159199e+08</td>\n",
       "    </tr>\n",
       "    <tr>\n",
       "      <th>1</th>\n",
       "      <td>02</td>\n",
       "      <td>1.062295e+08</td>\n",
       "    </tr>\n",
       "    <tr>\n",
       "      <th>2</th>\n",
       "      <td>03</td>\n",
       "      <td>1.150534e+08</td>\n",
       "    </tr>\n",
       "    <tr>\n",
       "      <th>3</th>\n",
       "      <td>04</td>\n",
       "      <td>7.261812e+07</td>\n",
       "    </tr>\n",
       "  </tbody>\n",
       "</table>\n",
       "</div>"
      ],
      "text/plain": [
       "  tx_month        tx_sum\n",
       "0       01  1.159199e+08\n",
       "1       02  1.062295e+08\n",
       "2       03  1.150534e+08\n",
       "3       04  7.261812e+07"
      ]
     },
     "execution_count": 1475,
     "metadata": {},
     "output_type": "execute_result"
    }
   ],
   "source": [
    "pd.read_sql(\n",
    "    f'''\n",
    "    SELECT\n",
    "        strftime('%m', DATE(tx_datetime)) AS tx_month, \n",
    "        SUM(coalesce(tx.tx_amount,0)) AS tx_sum\n",
    "    FROM \n",
    "        {transaction_table} AS tx\n",
    "    INNER JOIN (\n",
    "        SELECT\n",
    "            client_id\n",
    "        FROM {customer_table}\n",
    "        WHERE DATE(end_dt) >= DATE('{default_date}')\n",
    "    ) AS ct\n",
    "        ON tx.customer_id = ct.client_id\n",
    "    GROUP BY\n",
    "        strftime('%m', DATE(tx_datetime))\n",
    "    ''', \n",
    "conn)"
   ]
  },
  {
   "attachments": {},
   "cell_type": "markdown",
   "metadata": {},
   "source": [
    "Закрываем подключение"
   ]
  },
  {
   "cell_type": "code",
   "execution_count": 1476,
   "metadata": {},
   "outputs": [],
   "source": [
    "conn.close()"
   ]
  }
 ],
 "metadata": {
  "kernelspec": {
   "display_name": "mipt_py_adv_hw1_env",
   "language": "python",
   "name": "python3"
  },
  "language_info": {
   "codemirror_mode": {
    "name": "ipython",
    "version": 3
   },
   "file_extension": ".py",
   "mimetype": "text/x-python",
   "name": "python",
   "nbconvert_exporter": "python",
   "pygments_lexer": "ipython3",
   "version": "3.9.1"
  },
  "orig_nbformat": 4
 },
 "nbformat": 4,
 "nbformat_minor": 2
}
