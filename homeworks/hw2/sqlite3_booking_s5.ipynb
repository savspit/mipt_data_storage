{
 "cells": [
  {
   "cell_type": "code",
   "execution_count": 1,
   "id": "1f847ffd-f688-4b6f-b437-b9c43321746d",
   "metadata": {},
   "outputs": [],
   "source": [
    "import sqlite3 \n",
    "from sqlite3 import Error \n",
    "import pandas as pd"
   ]
  },
  {
   "cell_type": "code",
   "execution_count": 2,
   "id": "9f7b8fc0",
   "metadata": {},
   "outputs": [],
   "source": [
    "def create_connection(path):\n",
    "    connection = None\n",
    "    try:\n",
    "        connection = sqlite3.connect(path)\n",
    "        print(\"Connection to SQLite DB successful\")\n",
    "    except Error as e:\n",
    "        print(f\"The error '{e}' occurred\")\n",
    "\n",
    "    return connection"
   ]
  },
  {
   "cell_type": "code",
   "execution_count": 11,
   "id": "73720f48-ab74-4095-90a1-3539ea0eee47",
   "metadata": {},
   "outputs": [
    {
     "name": "stdout",
     "output_type": "stream",
     "text": [
      "Connection to SQLite DB successful\n"
     ]
    }
   ],
   "source": [
    "connection = create_connection(\"SQL_booking_s_4.db\")"
   ]
  },
  {
   "cell_type": "code",
   "execution_count": 12,
   "id": "9e8b33d1-06dc-481c-a86b-6bba64a68d2d",
   "metadata": {},
   "outputs": [],
   "source": [
    "def execute_query(connection, query):\n",
    "    cursor = connection.cursor()\n",
    "    try:\n",
    "        cursor.execute(query)\n",
    "        connection.commit()\n",
    "        print(\"Query executed successfully\")\n",
    "    except Error as e:\n",
    "        print(f\"The error '{e}' occurred\")"
   ]
  },
  {
   "cell_type": "markdown",
   "id": "71d56296",
   "metadata": {},
   "source": [
    "## Подготовка дашборда"
   ]
  },
  {
   "cell_type": "code",
   "execution_count": 52,
   "id": "7d227c0f",
   "metadata": {},
   "outputs": [
    {
     "name": "stdout",
     "output_type": "stream",
     "text": [
      "Requirement already satisfied: dash in c:\\users\\svetlana.medvedeva\\anaconda3\\lib\\site-packages (2.9.1)\n",
      "Requirement already satisfied: dash-core-components==2.0.0 in c:\\users\\svetlana.medvedeva\\anaconda3\\lib\\site-packages (from dash) (2.0.0)\n",
      "Requirement already satisfied: dash-table==5.0.0 in c:\\users\\svetlana.medvedeva\\anaconda3\\lib\\site-packages (from dash) (5.0.0)\n",
      "Requirement already satisfied: Flask>=1.0.4 in c:\\users\\svetlana.medvedeva\\anaconda3\\lib\\site-packages (from dash) (1.1.2)\n",
      "Requirement already satisfied: plotly>=5.0.0 in c:\\users\\svetlana.medvedeva\\anaconda3\\lib\\site-packages (from dash) (5.9.0)\n",
      "Requirement already satisfied: dash-html-components==2.0.0 in c:\\users\\svetlana.medvedeva\\anaconda3\\lib\\site-packages (from dash) (2.0.0)\n",
      "Requirement already satisfied: click>=5.1 in c:\\users\\svetlana.medvedeva\\anaconda3\\lib\\site-packages (from Flask>=1.0.4->dash) (8.0.4)\n",
      "Requirement already satisfied: Werkzeug>=0.15 in c:\\users\\svetlana.medvedeva\\anaconda3\\lib\\site-packages (from Flask>=1.0.4->dash) (2.0.3)\n",
      "Requirement already satisfied: Jinja2>=2.10.1 in c:\\users\\svetlana.medvedeva\\anaconda3\\lib\\site-packages (from Flask>=1.0.4->dash) (2.11.3)\n",
      "Requirement already satisfied: itsdangerous>=0.24 in c:\\users\\svetlana.medvedeva\\anaconda3\\lib\\site-packages (from Flask>=1.0.4->dash) (2.0.1)\n",
      "Requirement already satisfied: tenacity>=6.2.0 in c:\\users\\svetlana.medvedeva\\anaconda3\\lib\\site-packages (from plotly>=5.0.0->dash) (8.0.1)\n",
      "Requirement already satisfied: colorama in c:\\users\\svetlana.medvedeva\\anaconda3\\lib\\site-packages (from click>=5.1->Flask>=1.0.4->dash) (0.4.5)\n",
      "Requirement already satisfied: MarkupSafe>=0.23 in c:\\users\\svetlana.medvedeva\\anaconda3\\lib\\site-packages (from Jinja2>=2.10.1->Flask>=1.0.4->dash) (2.0.1)\n"
     ]
    }
   ],
   "source": [
    "!pip install dash"
   ]
  },
  {
   "cell_type": "code",
   "execution_count": 53,
   "id": "862168ec",
   "metadata": {},
   "outputs": [
    {
     "name": "stdout",
     "output_type": "stream",
     "text": [
      "Requirement already satisfied: jupyter-dash in c:\\users\\svetlana.medvedeva\\anaconda3\\lib\\site-packages (0.4.2)\n",
      "Requirement already satisfied: retrying in c:\\users\\svetlana.medvedeva\\anaconda3\\lib\\site-packages (from jupyter-dash) (1.3.4)\n",
      "Requirement already satisfied: nest-asyncio in c:\\users\\svetlana.medvedeva\\anaconda3\\lib\\site-packages (from jupyter-dash) (1.5.5)\n",
      "Requirement already satisfied: dash in c:\\users\\svetlana.medvedeva\\anaconda3\\lib\\site-packages (from jupyter-dash) (2.9.1)\n",
      "Requirement already satisfied: flask in c:\\users\\svetlana.medvedeva\\anaconda3\\lib\\site-packages (from jupyter-dash) (1.1.2)\n",
      "Requirement already satisfied: requests in c:\\users\\svetlana.medvedeva\\anaconda3\\lib\\site-packages (from jupyter-dash) (2.28.1)\n",
      "Requirement already satisfied: ipykernel in c:\\users\\svetlana.medvedeva\\anaconda3\\lib\\site-packages (from jupyter-dash) (6.15.2)\n",
      "Requirement already satisfied: ipython in c:\\users\\svetlana.medvedeva\\anaconda3\\lib\\site-packages (from jupyter-dash) (7.31.1)\n",
      "Requirement already satisfied: ansi2html in c:\\users\\svetlana.medvedeva\\anaconda3\\lib\\site-packages (from jupyter-dash) (1.8.0)\n",
      "Requirement already satisfied: dash-table==5.0.0 in c:\\users\\svetlana.medvedeva\\anaconda3\\lib\\site-packages (from dash->jupyter-dash) (5.0.0)\n",
      "Requirement already satisfied: dash-core-components==2.0.0 in c:\\users\\svetlana.medvedeva\\anaconda3\\lib\\site-packages (from dash->jupyter-dash) (2.0.0)\n",
      "Requirement already satisfied: plotly>=5.0.0 in c:\\users\\svetlana.medvedeva\\anaconda3\\lib\\site-packages (from dash->jupyter-dash) (5.9.0)\n",
      "Requirement already satisfied: dash-html-components==2.0.0 in c:\\users\\svetlana.medvedeva\\anaconda3\\lib\\site-packages (from dash->jupyter-dash) (2.0.0)\n",
      "Requirement already satisfied: itsdangerous>=0.24 in c:\\users\\svetlana.medvedeva\\anaconda3\\lib\\site-packages (from flask->jupyter-dash) (2.0.1)\n",
      "Requirement already satisfied: click>=5.1 in c:\\users\\svetlana.medvedeva\\anaconda3\\lib\\site-packages (from flask->jupyter-dash) (8.0.4)\n",
      "Requirement already satisfied: Werkzeug>=0.15 in c:\\users\\svetlana.medvedeva\\anaconda3\\lib\\site-packages (from flask->jupyter-dash) (2.0.3)\n",
      "Requirement already satisfied: Jinja2>=2.10.1 in c:\\users\\svetlana.medvedeva\\anaconda3\\lib\\site-packages (from flask->jupyter-dash) (2.11.3)\n",
      "Requirement already satisfied: pyzmq>=17 in c:\\users\\svetlana.medvedeva\\anaconda3\\lib\\site-packages (from ipykernel->jupyter-dash) (23.2.0)\n",
      "Requirement already satisfied: matplotlib-inline>=0.1 in c:\\users\\svetlana.medvedeva\\anaconda3\\lib\\site-packages (from ipykernel->jupyter-dash) (0.1.6)\n",
      "Requirement already satisfied: traitlets>=5.1.0 in c:\\users\\svetlana.medvedeva\\anaconda3\\lib\\site-packages (from ipykernel->jupyter-dash) (5.1.1)\n",
      "Requirement already satisfied: debugpy>=1.0 in c:\\users\\svetlana.medvedeva\\anaconda3\\lib\\site-packages (from ipykernel->jupyter-dash) (1.5.1)\n",
      "Requirement already satisfied: jupyter-client>=6.1.12 in c:\\users\\svetlana.medvedeva\\anaconda3\\lib\\site-packages (from ipykernel->jupyter-dash) (7.3.4)\n",
      "Requirement already satisfied: tornado>=6.1 in c:\\users\\svetlana.medvedeva\\anaconda3\\lib\\site-packages (from ipykernel->jupyter-dash) (6.1)\n",
      "Requirement already satisfied: psutil in c:\\users\\svetlana.medvedeva\\anaconda3\\lib\\site-packages (from ipykernel->jupyter-dash) (5.9.0)\n",
      "Requirement already satisfied: packaging in c:\\users\\svetlana.medvedeva\\anaconda3\\lib\\site-packages (from ipykernel->jupyter-dash) (21.3)\n",
      "Requirement already satisfied: jedi>=0.16 in c:\\users\\svetlana.medvedeva\\anaconda3\\lib\\site-packages (from ipython->jupyter-dash) (0.18.1)\n",
      "Requirement already satisfied: colorama in c:\\users\\svetlana.medvedeva\\anaconda3\\lib\\site-packages (from ipython->jupyter-dash) (0.4.5)\n",
      "Requirement already satisfied: pickleshare in c:\\users\\svetlana.medvedeva\\anaconda3\\lib\\site-packages (from ipython->jupyter-dash) (0.7.5)\n",
      "Requirement already satisfied: decorator in c:\\users\\svetlana.medvedeva\\anaconda3\\lib\\site-packages (from ipython->jupyter-dash) (5.1.1)\n",
      "Requirement already satisfied: prompt-toolkit!=3.0.0,!=3.0.1,<3.1.0,>=2.0.0 in c:\\users\\svetlana.medvedeva\\anaconda3\\lib\\site-packages (from ipython->jupyter-dash) (3.0.20)\n",
      "Requirement already satisfied: setuptools>=18.5 in c:\\users\\svetlana.medvedeva\\anaconda3\\lib\\site-packages (from ipython->jupyter-dash) (63.4.1)\n",
      "Requirement already satisfied: pygments in c:\\users\\svetlana.medvedeva\\anaconda3\\lib\\site-packages (from ipython->jupyter-dash) (2.11.2)\n",
      "Requirement already satisfied: backcall in c:\\users\\svetlana.medvedeva\\anaconda3\\lib\\site-packages (from ipython->jupyter-dash) (0.2.0)\n",
      "Requirement already satisfied: certifi>=2017.4.17 in c:\\users\\svetlana.medvedeva\\anaconda3\\lib\\site-packages (from requests->jupyter-dash) (2022.9.14)\n",
      "Requirement already satisfied: charset-normalizer<3,>=2 in c:\\users\\svetlana.medvedeva\\anaconda3\\lib\\site-packages (from requests->jupyter-dash) (2.0.4)\n",
      "Requirement already satisfied: idna<4,>=2.5 in c:\\users\\svetlana.medvedeva\\anaconda3\\lib\\site-packages (from requests->jupyter-dash) (3.3)\n",
      "Requirement already satisfied: urllib3<1.27,>=1.21.1 in c:\\users\\svetlana.medvedeva\\anaconda3\\lib\\site-packages (from requests->jupyter-dash) (1.26.11)\n",
      "Requirement already satisfied: six>=1.7.0 in c:\\users\\svetlana.medvedeva\\anaconda3\\lib\\site-packages (from retrying->jupyter-dash) (1.16.0)\n",
      "Requirement already satisfied: parso<0.9.0,>=0.8.0 in c:\\users\\svetlana.medvedeva\\anaconda3\\lib\\site-packages (from jedi>=0.16->ipython->jupyter-dash) (0.8.3)\n",
      "Requirement already satisfied: MarkupSafe>=0.23 in c:\\users\\svetlana.medvedeva\\anaconda3\\lib\\site-packages (from Jinja2>=2.10.1->flask->jupyter-dash) (2.0.1)\n",
      "Requirement already satisfied: jupyter-core>=4.9.2 in c:\\users\\svetlana.medvedeva\\anaconda3\\lib\\site-packages (from jupyter-client>=6.1.12->ipykernel->jupyter-dash) (4.11.1)\n",
      "Requirement already satisfied: python-dateutil>=2.8.2 in c:\\users\\svetlana.medvedeva\\anaconda3\\lib\\site-packages (from jupyter-client>=6.1.12->ipykernel->jupyter-dash) (2.8.2)\n",
      "Requirement already satisfied: entrypoints in c:\\users\\svetlana.medvedeva\\anaconda3\\lib\\site-packages (from jupyter-client>=6.1.12->ipykernel->jupyter-dash) (0.4)\n",
      "Requirement already satisfied: tenacity>=6.2.0 in c:\\users\\svetlana.medvedeva\\anaconda3\\lib\\site-packages (from plotly>=5.0.0->dash->jupyter-dash) (8.0.1)\n",
      "Requirement already satisfied: wcwidth in c:\\users\\svetlana.medvedeva\\anaconda3\\lib\\site-packages (from prompt-toolkit!=3.0.0,!=3.0.1,<3.1.0,>=2.0.0->ipython->jupyter-dash) (0.2.5)\n",
      "Requirement already satisfied: pyparsing!=3.0.5,>=2.0.2 in c:\\users\\svetlana.medvedeva\\anaconda3\\lib\\site-packages (from packaging->ipykernel->jupyter-dash) (3.0.9)\n",
      "Requirement already satisfied: pywin32>=1.0 in c:\\users\\svetlana.medvedeva\\anaconda3\\lib\\site-packages (from jupyter-core>=4.9.2->jupyter-client>=6.1.12->ipykernel->jupyter-dash) (302)\n"
     ]
    }
   ],
   "source": [
    "!pip install jupyter-dash"
   ]
  },
  {
   "cell_type": "code",
   "execution_count": 54,
   "id": "4367bb4c",
   "metadata": {},
   "outputs": [
    {
     "name": "stdout",
     "output_type": "stream",
     "text": [
      "Requirement already satisfied: pandas in c:\\users\\svetlana.medvedeva\\anaconda3\\lib\\site-packages (1.4.4)\n",
      "Requirement already satisfied: python-dateutil>=2.8.1 in c:\\users\\svetlana.medvedeva\\anaconda3\\lib\\site-packages (from pandas) (2.8.2)\n",
      "Requirement already satisfied: pytz>=2020.1 in c:\\users\\svetlana.medvedeva\\anaconda3\\lib\\site-packages (from pandas) (2022.1)\n",
      "Requirement already satisfied: numpy>=1.18.5 in c:\\users\\svetlana.medvedeva\\anaconda3\\lib\\site-packages (from pandas) (1.21.5)\n",
      "Requirement already satisfied: six>=1.5 in c:\\users\\svetlana.medvedeva\\anaconda3\\lib\\site-packages (from python-dateutil>=2.8.1->pandas) (1.16.0)\n"
     ]
    }
   ],
   "source": [
    "!pip install pandas"
   ]
  },
  {
   "cell_type": "markdown",
   "id": "1059c214",
   "metadata": {},
   "source": [
    "### Просмотр названий таблиц из базы данных"
   ]
  },
  {
   "cell_type": "code",
   "execution_count": 67,
   "id": "c9dab9c4",
   "metadata": {},
   "outputs": [
    {
     "name": "stdout",
     "output_type": "stream",
     "text": [
      "         name\n",
      "0      Orders\n",
      "1      Review\n",
      "2       Users\n",
      "3  Apart_info\n"
     ]
    }
   ],
   "source": [
    "table = pd.read_sql(\"SELECT name FROM sqlite_master WHERE type='table'\", connection)\n",
    "print(table)"
   ]
  },
  {
   "cell_type": "markdown",
   "id": "1582f195",
   "metadata": {},
   "source": [
    "### Просмотр полей таблиц из базы данных"
   ]
  },
  {
   "cell_type": "code",
   "execution_count": 69,
   "id": "925b82e9",
   "metadata": {
    "scrolled": false
   },
   "outputs": [
    {
     "name": "stdout",
     "output_type": "stream",
     "text": [
      "Orders\n",
      "\tBooking_ID\n",
      "\tno_of_adults\n",
      "\tno_of_children\n",
      "\tno_of_weekend_nights\n",
      "\tno_of_week_nights\n",
      "\ttype_of_meal_plan\n",
      "\trequired_car_parking_space\n",
      "\troom_type_reserved\n",
      "\tlead_time\n",
      "\tyear\n",
      "\tmonth\n",
      "\tday\n",
      "\tmarket_segment_type\n",
      "\trepeated_guest\n",
      "\tno_of_previous_cancellations\n",
      "\tno_of_previous_bookings_not_canceled\n",
      "\tavg_price_per_room\n",
      "\tno_of_special_requests\n",
      "\tbooking_status\n",
      "\tuser_id\n",
      "\tdate_arrival\n",
      "\tapart_id\n",
      "\n",
      "Review\n",
      "\tindex\n",
      "\tUniq Id\n",
      "\tSource\n",
      "\tHotel Id From Source\n",
      "\tHotel Url From Source\n",
      "\tHotel Name\n",
      "\tReview Url\n",
      "\tReview Publication Date\n",
      "\tReview Author Type\n",
      "\tReview Author Name\n",
      "\tReview Author Location\n",
      "\tReview Author Age\n",
      "\tReview Author Count\n",
      "\tReview Stay Details\n",
      "\tReview Title\n",
      "\tReview Text Positive\n",
      "\tReview Text Negative\n",
      "\tReview Rating\n",
      "\n",
      "Users\n",
      "\tID\n",
      "\tNationality\n",
      "\tAge\n",
      "\tDaysSinceCreation\n",
      "\tNameHash\n",
      "\tDocIDHash\n",
      "\tAverageLeadTime\n",
      "\tLodgingRevenue\n",
      "\tOtherRevenue\n",
      "\tBookingsCanceled\n",
      "\tBookingsNoShowed\n",
      "\tBookingsCheckedIn\n",
      "\tPersonsNights\n",
      "\tRoomNights\n",
      "\tDaysSinceLastStay\n",
      "\tDaysSinceFirstStay\n",
      "\tDistributionChannel\n",
      "\tMarketSegment\n",
      "\tSRHighFloor\n",
      "\tSRLowFloor\n",
      "\tSRAccessibleRoom\n",
      "\tSRMediumFloor\n",
      "\tSRBathtub\n",
      "\tSRShower\n",
      "\tSRCrib\n",
      "\tSRKingSizeBed\n",
      "\tSRTwinBed\n",
      "\tSRNearElevator\n",
      "\tSRAwayFromElevator\n",
      "\tSRNoAlcoholInMiniBar\n",
      "\tSRQuietRoom\n",
      "\n",
      "Apart_info\n",
      "\tYearBuilt\n",
      "\tSize(sqf)\n",
      "\tFloor\n",
      "\tHallwayType\n",
      "\tHeatingType\n",
      "\tAptManageType\n",
      "\tN_Parkinglot(Ground)\n",
      "\tN_Parkinglot(Basement)\n",
      "\tTimeToBusStop\n",
      "\tTimeToSubway\n",
      "\tN_APT\n",
      "\tN_manager\n",
      "\tN_elevators\n",
      "\tSubwayStation\n",
      "\tN_FacilitiesNearBy(PublicOffice)\n",
      "\tN_FacilitiesNearBy(Hospital)\n",
      "\tN_FacilitiesNearBy(Dpartmentstore)\n",
      "\tN_FacilitiesNearBy(Mall)\n",
      "\tN_FacilitiesNearBy(ETC)\n",
      "\tN_FacilitiesNearBy(Park)\n",
      "\tN_SchoolNearBy(Elementary)\n",
      "\tN_SchoolNearBy(Middle)\n",
      "\tN_SchoolNearBy(High)\n",
      "\tN_SchoolNearBy(University)\n",
      "\tN_FacilitiesInApt\n",
      "\tN_FacilitiesNearBy(Total)\n",
      "\tN_SchoolNearBy(Total)\n",
      "\tapart_id\n",
      "\n"
     ]
    }
   ],
   "source": [
    "c = connection.cursor()\n",
    "\n",
    "def table_info(c, conn):\n",
    "    '''\n",
    "    prints out all of the columns of every table in db\n",
    "    c : cursor object\n",
    "    conn : database connection object\n",
    "    '''\n",
    "    tables = c.execute(\"SELECT name FROM sqlite_master WHERE type='table';\").fetchall()\n",
    "    for table_name in tables:\n",
    "        table_name = table_name[0] # tables is a list of single item tuples\n",
    "        table = pd.read_sql_query(\"SELECT * from {} LIMIT 0\".format(table_name), conn)\n",
    "        print(table_name)\n",
    "        for col in table.columns:\n",
    "            print('\\t' + col)\n",
    "        print()\n",
    "\n",
    "table_info(c, connection)"
   ]
  },
  {
   "cell_type": "code",
   "execution_count": 85,
   "id": "41c9250d",
   "metadata": {},
   "outputs": [
    {
     "name": "stdout",
     "output_type": "stream",
     "text": [
      "(0, 'Booking_ID', 'TEXT', 0, None, 0)\n",
      "(1, 'no_of_adults', 'INTEGER', 0, None, 0)\n",
      "(2, 'no_of_children', 'INTEGER', 0, None, 0)\n",
      "(3, 'no_of_weekend_nights', 'INTEGER', 0, None, 0)\n",
      "(4, 'no_of_week_nights', 'INTEGER', 0, None, 0)\n",
      "(5, 'type_of_meal_plan', 'TEXT', 0, None, 0)\n",
      "(6, 'required_car_parking_space', 'INTEGER', 0, None, 0)\n",
      "(7, 'room_type_reserved', 'TEXT', 0, None, 0)\n",
      "(8, 'lead_time', 'INTEGER', 0, None, 0)\n",
      "(9, 'year', 'INTEGER', 0, None, 0)\n",
      "(10, 'month', 'INTEGER', 0, None, 0)\n",
      "(11, 'day', 'INTEGER', 0, None, 0)\n",
      "(12, 'market_segment_type', 'TEXT', 0, None, 0)\n",
      "(13, 'repeated_guest', 'INTEGER', 0, None, 0)\n",
      "(14, 'no_of_previous_cancellations', 'INTEGER', 0, None, 0)\n",
      "(15, 'no_of_previous_bookings_not_canceled', 'INTEGER', 0, None, 0)\n",
      "(16, 'avg_price_per_room', 'REAL', 0, None, 0)\n",
      "(17, 'no_of_special_requests', 'INTEGER', 0, None, 0)\n",
      "(18, 'booking_status', 'TEXT', 0, None, 0)\n",
      "(19, 'user_id', 'INTEGER', 0, None, 0)\n",
      "(20, 'date_arrival', 'TIMESTAMP', 0, None, 0)\n",
      "(21, 'apart_id', 'INTEGER', 0, None, 0)\n"
     ]
    }
   ],
   "source": [
    "meta = c.execute(\"PRAGMA table_info('orders')\")\n",
    "for r in meta:\n",
    "    print(r)"
   ]
  },
  {
   "cell_type": "code",
   "execution_count": 86,
   "id": "d6a790b9",
   "metadata": {},
   "outputs": [
    {
     "data": {
      "text/html": [
       "<div>\n",
       "<style scoped>\n",
       "    .dataframe tbody tr th:only-of-type {\n",
       "        vertical-align: middle;\n",
       "    }\n",
       "\n",
       "    .dataframe tbody tr th {\n",
       "        vertical-align: top;\n",
       "    }\n",
       "\n",
       "    .dataframe thead th {\n",
       "        text-align: right;\n",
       "    }\n",
       "</style>\n",
       "<table border=\"1\" class=\"dataframe\">\n",
       "  <thead>\n",
       "    <tr style=\"text-align: right;\">\n",
       "      <th></th>\n",
       "      <th>count()</th>\n",
       "    </tr>\n",
       "  </thead>\n",
       "  <tbody>\n",
       "    <tr>\n",
       "      <th>0</th>\n",
       "      <td>36275</td>\n",
       "    </tr>\n",
       "  </tbody>\n",
       "</table>\n",
       "</div>"
      ],
      "text/plain": [
       "   count()\n",
       "0    36275"
      ]
     },
     "execution_count": 86,
     "metadata": {},
     "output_type": "execute_result"
    }
   ],
   "source": [
    "data = pd.read_sql('SELECT count() FROM orders', connection)\n",
    "data"
   ]
  },
  {
   "cell_type": "code",
   "execution_count": 91,
   "id": "2c237b47",
   "metadata": {},
   "outputs": [
    {
     "name": "stdout",
     "output_type": "stream",
     "text": [
      "Dash is running on http://127.0.0.1:8050/\n",
      "\n",
      " * Serving Flask app \"__main__\" (lazy loading)\n",
      " * Environment: production\n",
      "\u001b[31m   WARNING: This is a development server. Do not use it in a production deployment.\u001b[0m\n",
      "\u001b[2m   Use a production WSGI server instead.\u001b[0m\n",
      " * Debug mode: off\n"
     ]
    },
    {
     "name": "stderr",
     "output_type": "stream",
     "text": [
      " * Running on http://127.0.0.1:8050/ (Press CTRL+C to quit)\n"
     ]
    }
   ],
   "source": [
    "import pandas as pd\n",
    "import plotly.express as px\n",
    "import dash\n",
    "import dash_core_components as dcc\n",
    "import dash_html_components as html\n",
    "from dash.dependencies import Input, Output\n",
    "\n",
    "app = dash.Dash()\n",
    "\n",
    "df1 = pd.read_sql('SELECT date(date_arrival) as date, count(Booking_ID) as booking_number FROM orders WHERE year = 2017 GROUP BY date(date_arrival)', connection)\n",
    "\n",
    "df2 = pd.read_sql('SELECT date(date_arrival) as date, count(Booking_ID) as booking_number FROM orders WHERE year = 2018 GROUP BY date(date_arrival)', connection)\n",
    "\n",
    "fig = px.box(df1, y=\"booking_number\")\n",
    "\n",
    "app.layout = html.Div(children=[\n",
    "    html.H1(children='Бронирование жилья', style={'text-align': 'center'}),\n",
    "    html.Div(children='Динамика бронирований по датам', style={'text-align': 'center'}),\n",
    "    \n",
    "    html.Div([\n",
    "        html.Label(['Выберите год:'],style={'font-weight': 'bold'}),\n",
    "        dcc.Dropdown(\n",
    "            id='dropdown',\n",
    "            options=[\n",
    "                {'label': '2017 год', 'value': 'graph1'},\n",
    "                {'label': '2018 год', 'value': 'graph2'},\n",
    "                    ],\n",
    "            value='graph1',\n",
    "            style={\"width\": \"60%\"}),\n",
    "        \n",
    "    html.Div(dcc.Graph(id='graph')),        \n",
    "        ]),\n",
    "    \n",
    "    html.Div(dcc.Graph(id='boxplot')),        \n",
    "        ])\n",
    "    \n",
    "\n",
    "\n",
    "\n",
    "@app.callback(\n",
    "    Output('graph', 'figure'),\n",
    "    [Input(component_id='dropdown', component_property='value')]\n",
    ")\n",
    "def select_graph(value):\n",
    "    if value == 'graph1':\n",
    "        fig1 = px.bar(df1, x=df1['date'], y=df1['booking_number'])\n",
    "        return fig1\n",
    "    else:\n",
    "        fig2 = px.bar(x=df2['date'], y=df2['booking_number'])\n",
    "        return fig2\n",
    "    \n",
    "@app.callback(\n",
    "    Output('boxplot', 'figure'),\n",
    "    [Input(component_id='dropdown', component_property='value')]\n",
    ")\n",
    "def select_graph(value):\n",
    "    if value == 'graph1':\n",
    "        fig1 = px.box(df1, y='booking_number', title = '\"Ящик с усами\" для числа бронирований')\n",
    "        return fig1\n",
    "    else:\n",
    "        fig2 = px.box(df2, y='booking_number', title = '\"Ящик с усами\" для числа бронирований')\n",
    "        return fig2\n",
    "    \n",
    "\n",
    "\n",
    "app.run_server()\n"
   ]
  },
  {
   "cell_type": "code",
   "execution_count": null,
   "id": "f53c453a",
   "metadata": {},
   "outputs": [],
   "source": [
    "connection.close()"
   ]
  },
  {
   "cell_type": "code",
   "execution_count": null,
   "id": "e14a5f14",
   "metadata": {},
   "outputs": [],
   "source": []
  },
  {
   "cell_type": "code",
   "execution_count": null,
   "id": "00769f75",
   "metadata": {},
   "outputs": [],
   "source": []
  },
  {
   "cell_type": "code",
   "execution_count": null,
   "id": "c9f160f0",
   "metadata": {},
   "outputs": [],
   "source": []
  },
  {
   "cell_type": "code",
   "execution_count": null,
   "id": "98a5dbd9",
   "metadata": {},
   "outputs": [],
   "source": []
  }
 ],
 "metadata": {
  "kernelspec": {
   "display_name": "Python 3 (ipykernel)",
   "language": "python",
   "name": "python3"
  },
  "language_info": {
   "codemirror_mode": {
    "name": "ipython",
    "version": 3
   },
   "file_extension": ".py",
   "mimetype": "text/x-python",
   "name": "python",
   "nbconvert_exporter": "python",
   "pygments_lexer": "ipython3",
   "version": "3.9.13"
  }
 },
 "nbformat": 4,
 "nbformat_minor": 5
}
