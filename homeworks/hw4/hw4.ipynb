{
 "cells": [
  {
   "cell_type": "code",
   "execution_count": 212,
   "metadata": {},
   "outputs": [],
   "source": [
    "import sqlite3 \n",
    "from sqlite3 import Error\n",
    "import pandas as pd"
   ]
  },
  {
   "attachments": {},
   "cell_type": "markdown",
   "metadata": {},
   "source": [
    "> Дано 2 csv-файла: один с транзакциями за период 01.01.2023 - 20.04.2023, второй с информацией о клиентах.\n",
    "> \n",
    "> **За дефолтную дату для выборки действующих клиентов брать ‘2023-05-01’**\n",
    "> \n",
    "> Необходимо в Jupyter-ноутбуке выполнить следующие пункты, используя SQLite:"
   ]
  },
  {
   "attachments": {},
   "cell_type": "markdown",
   "metadata": {},
   "source": [
    "## Шаг 1. Подготовительный этап"
   ]
  },
  {
   "attachments": {},
   "cell_type": "markdown",
   "metadata": {},
   "source": [
    "> _Аналогичные действия вы делали в прошлом домашнем задании._\n",
    "> \n",
    "> **(Балл - 2)** Необходимо скачать CSV-файл - <span style=\"color:green\">transactions_for_dz2.csv</span>, создать таблицу _transaction_bd_ со всеми полями, загрузить данные из файла в таблицу и оставить таблицу со структурой:\n",
    "> \n",
    "> <br/>\n",
    "> (0, 'TRANSACTION_ID', 'INTEGER', 0, None, 0) - id транзакции<br/>\n",
    "> (1, 'TX_DATETIME', 'NUMERIC', 0, None, 0) - дата транзакции<br/>\n",
    "> (2, 'CUSTOMER_ID', 'INTEGER', 0, None, 0) - id клиента<br/>\n",
    "> (3, 'TERMINAL_ID', 'INTEGER', 0, None, 0) - id терминала<br/>\n",
    "> (4, 'TX_AMOUNT', 'REAL', 0, None, 0) - сумма транзакции<br/>\n",
    "> \n",
    "> <br/>\n",
    "> Также необходимо скачать второй CSV-файл - <span style=\"color:green\">client_info.csv</span>, создать таблицу _customer_bd_ со всеми полями, загрузить данные из файла в таблицу и получить таблицу со структурой:\n",
    "> <br/>\n",
    "> <br/>\n",
    "> (0, 'CLIENT_ID', 'INTEGER', 0, None, 0) - id клиента<br/>\n",
    "> (1, 'START_DT', 'NUMERIC', 0, None, 0) - дата начало записи о клиенте<br/>\n",
    "> (2, 'END_DT', 'NUMERIC', 0, None, 0) - дата закрытия записи о клиенте<br/>\n",
    "> (3, 'CLIENT_NAME', 'TEXT', 0, None, 0) - название клиента<br/>\n",
    "> (4, 'YEAR_BIRTH', 'TEXT', 0, None, 0) - дата рождения клиента <br/>"
   ]
  },
  {
   "attachments": {},
   "cell_type": "markdown",
   "metadata": {},
   "source": [
    "Создаем функцию для создания подключения с возможностью создания БД в памяти и в файле. По-умолчанию будем использовать создание БД в памяти"
   ]
  },
  {
   "cell_type": "code",
   "execution_count": 213,
   "metadata": {},
   "outputs": [],
   "source": [
    "def create_connection(in_memory=True, path=None):\n",
    "    conn = None\n",
    "    try:\n",
    "        conn = sqlite3.connect(\":memory:\" if in_memory else path)\n",
    "        print(\"Connection to SQLite DB successful\")\n",
    "    except Error as e:\n",
    "        print(f\"The error '{e}' occurred\")\n",
    "\n",
    "    return conn"
   ]
  },
  {
   "attachments": {},
   "cell_type": "markdown",
   "metadata": {},
   "source": [
    "Создаем функцию для выполнения запросов"
   ]
  },
  {
   "cell_type": "code",
   "execution_count": 214,
   "metadata": {},
   "outputs": [],
   "source": [
    "def execute_query(query, conn):\n",
    "    cursor = conn.cursor()\n",
    "    try:\n",
    "        cursor.execute(query)\n",
    "        conn.commit()\n",
    "        print(\"Query executed successfully\")\n",
    "    except Error as e:\n",
    "        print(f\"The error '{e}' occurred\")"
   ]
  },
  {
   "attachments": {},
   "cell_type": "markdown",
   "metadata": {},
   "source": [
    "Создаем функцию для заполнения таблицы БД данными из датасета"
   ]
  },
  {
   "cell_type": "code",
   "execution_count": 215,
   "metadata": {},
   "outputs": [],
   "source": [
    "def sql_insert(data, name, conn, m=0, n=1):\n",
    "    cursor = conn.cursor()\n",
    "    try:\n",
    "        cursor.executemany(f'''\n",
    "                INSERT INTO {name} {tuple(data.columns[m:n])} \n",
    "                    VALUES ({str(\"?, \" * (n-m-1) + \"?\")})\n",
    "                    ''',\n",
    "                data.iloc[:, m:n].values)\n",
    "        conn.commit()\n",
    "        print('Data inserted successfully')\n",
    "    except Error as e:\n",
    "        print(f\"The error '{e}' occurred\")"
   ]
  },
  {
   "attachments": {},
   "cell_type": "markdown",
   "metadata": {},
   "source": [
    "Создаем функцию для получения информации по столбцам"
   ]
  },
  {
   "cell_type": "code",
   "execution_count": 216,
   "metadata": {},
   "outputs": [],
   "source": [
    "def table_info(table_name, conn):\n",
    "    c = conn.cursor()\n",
    "    meta = c.execute(\"PRAGMA table_info('\" + table_name + \"')\")\n",
    "    for r in meta:\n",
    "        print(r)"
   ]
  },
  {
   "attachments": {},
   "cell_type": "markdown",
   "metadata": {},
   "source": [
    "Задаем дату по-умолчанию"
   ]
  },
  {
   "cell_type": "code",
   "execution_count": 217,
   "metadata": {},
   "outputs": [],
   "source": [
    "default_date = '2023-05-01'"
   ]
  },
  {
   "attachments": {},
   "cell_type": "markdown",
   "metadata": {},
   "source": [
    "Задаем имя таблицы БД с транзакциями"
   ]
  },
  {
   "cell_type": "code",
   "execution_count": 218,
   "metadata": {},
   "outputs": [],
   "source": [
    "transaction_table = 'transaction_bd'"
   ]
  },
  {
   "attachments": {},
   "cell_type": "markdown",
   "metadata": {},
   "source": [
    "Задаем имя таблицы БД с клиентами"
   ]
  },
  {
   "cell_type": "code",
   "execution_count": 219,
   "metadata": {},
   "outputs": [],
   "source": [
    "customer_table = 'customer_bd'"
   ]
  },
  {
   "attachments": {},
   "cell_type": "markdown",
   "metadata": {},
   "source": [
    "Создаем подключение"
   ]
  },
  {
   "cell_type": "code",
   "execution_count": 220,
   "metadata": {},
   "outputs": [
    {
     "name": "stdout",
     "output_type": "stream",
     "text": [
      "Connection to SQLite DB successful\n"
     ]
    }
   ],
   "source": [
    "conn = create_connection()"
   ]
  },
  {
   "attachments": {},
   "cell_type": "markdown",
   "metadata": {},
   "source": [
    "Создаем таблицу транзакций в БД.<br/>\n",
    "По условию, колонки должны иметь разные типы. Посмотрим на полученный результат и типы столбцов после загрузки данных из датасета."
   ]
  },
  {
   "cell_type": "code",
   "execution_count": 221,
   "metadata": {},
   "outputs": [
    {
     "name": "stdout",
     "output_type": "stream",
     "text": [
      "Query executed successfully\n"
     ]
    }
   ],
   "source": [
    "execute_query(\n",
    "    f'''\n",
    "    CREATE TABLE IF NOT EXISTS {transaction_table} (\n",
    "        transaction_id INTEGER,\n",
    "        tx_datetime NUMERIC,\n",
    "        customer_id INTEGER,\n",
    "        terminal_id INTEGER,\n",
    "        tx_amount REAL\n",
    "    );\n",
    "    ''',\n",
    "conn)"
   ]
  },
  {
   "attachments": {},
   "cell_type": "markdown",
   "metadata": {},
   "source": [
    "Загружаем данные из csv в датасет"
   ]
  },
  {
   "cell_type": "code",
   "execution_count": 222,
   "metadata": {},
   "outputs": [],
   "source": [
    "trans_df = pd.read_csv('data/transactions_for_dz2.csv', delimiter=',')"
   ]
  },
  {
   "attachments": {},
   "cell_type": "markdown",
   "metadata": {},
   "source": [
    "Посмотрим на датасет"
   ]
  },
  {
   "cell_type": "code",
   "execution_count": 223,
   "metadata": {},
   "outputs": [
    {
     "data": {
      "text/html": [
       "<div>\n",
       "<style scoped>\n",
       "    .dataframe tbody tr th:only-of-type {\n",
       "        vertical-align: middle;\n",
       "    }\n",
       "\n",
       "    .dataframe tbody tr th {\n",
       "        vertical-align: top;\n",
       "    }\n",
       "\n",
       "    .dataframe thead th {\n",
       "        text-align: right;\n",
       "    }\n",
       "</style>\n",
       "<table border=\"1\" class=\"dataframe\">\n",
       "  <thead>\n",
       "    <tr style=\"text-align: right;\">\n",
       "      <th></th>\n",
       "      <th>TRANSACTION_ID</th>\n",
       "      <th>TX_DATETIME</th>\n",
       "      <th>CUSTOMER_ID</th>\n",
       "      <th>TERMINAL_ID</th>\n",
       "      <th>TX_AMOUNT</th>\n",
       "    </tr>\n",
       "  </thead>\n",
       "  <tbody>\n",
       "    <tr>\n",
       "      <th>0</th>\n",
       "      <td>0</td>\n",
       "      <td>2023-01-01 00:00:31</td>\n",
       "      <td>596</td>\n",
       "      <td>3156</td>\n",
       "      <td>533.07</td>\n",
       "    </tr>\n",
       "    <tr>\n",
       "      <th>1</th>\n",
       "      <td>1</td>\n",
       "      <td>2023-01-01 00:02:10</td>\n",
       "      <td>4961</td>\n",
       "      <td>3412</td>\n",
       "      <td>808.56</td>\n",
       "    </tr>\n",
       "    <tr>\n",
       "      <th>2</th>\n",
       "      <td>2</td>\n",
       "      <td>2023-01-01 00:07:56</td>\n",
       "      <td>2</td>\n",
       "      <td>1365</td>\n",
       "      <td>1442.94</td>\n",
       "    </tr>\n",
       "    <tr>\n",
       "      <th>3</th>\n",
       "      <td>3</td>\n",
       "      <td>2023-01-01 00:09:29</td>\n",
       "      <td>4128</td>\n",
       "      <td>8737</td>\n",
       "      <td>620.65</td>\n",
       "    </tr>\n",
       "    <tr>\n",
       "      <th>4</th>\n",
       "      <td>4</td>\n",
       "      <td>2023-01-01 00:10:34</td>\n",
       "      <td>927</td>\n",
       "      <td>9906</td>\n",
       "      <td>490.66</td>\n",
       "    </tr>\n",
       "  </tbody>\n",
       "</table>\n",
       "</div>"
      ],
      "text/plain": [
       "   TRANSACTION_ID          TX_DATETIME  CUSTOMER_ID  TERMINAL_ID  TX_AMOUNT\n",
       "0               0  2023-01-01 00:00:31          596         3156     533.07\n",
       "1               1  2023-01-01 00:02:10         4961         3412     808.56\n",
       "2               2  2023-01-01 00:07:56            2         1365    1442.94\n",
       "3               3  2023-01-01 00:09:29         4128         8737     620.65\n",
       "4               4  2023-01-01 00:10:34          927         9906     490.66"
      ]
     },
     "execution_count": 223,
     "metadata": {},
     "output_type": "execute_result"
    }
   ],
   "source": [
    "trans_df.head()"
   ]
  },
  {
   "cell_type": "code",
   "execution_count": 224,
   "metadata": {},
   "outputs": [
    {
     "data": {
      "text/html": [
       "<div>\n",
       "<style scoped>\n",
       "    .dataframe tbody tr th:only-of-type {\n",
       "        vertical-align: middle;\n",
       "    }\n",
       "\n",
       "    .dataframe tbody tr th {\n",
       "        vertical-align: top;\n",
       "    }\n",
       "\n",
       "    .dataframe thead th {\n",
       "        text-align: right;\n",
       "    }\n",
       "</style>\n",
       "<table border=\"1\" class=\"dataframe\">\n",
       "  <thead>\n",
       "    <tr style=\"text-align: right;\">\n",
       "      <th></th>\n",
       "      <th>TRANSACTION_ID</th>\n",
       "      <th>TX_DATETIME</th>\n",
       "      <th>CUSTOMER_ID</th>\n",
       "      <th>TERMINAL_ID</th>\n",
       "      <th>TX_AMOUNT</th>\n",
       "    </tr>\n",
       "  </thead>\n",
       "  <tbody>\n",
       "    <tr>\n",
       "      <th>1048570</th>\n",
       "      <td>1048570</td>\n",
       "      <td>2023-04-20 10:07:13</td>\n",
       "      <td>2380</td>\n",
       "      <td>3780</td>\n",
       "      <td>325.64</td>\n",
       "    </tr>\n",
       "    <tr>\n",
       "      <th>1048571</th>\n",
       "      <td>1048571</td>\n",
       "      <td>2023-04-20 10:07:28</td>\n",
       "      <td>738</td>\n",
       "      <td>5151</td>\n",
       "      <td>20.38</td>\n",
       "    </tr>\n",
       "    <tr>\n",
       "      <th>1048572</th>\n",
       "      <td>1048572</td>\n",
       "      <td>2023-04-20 10:07:33</td>\n",
       "      <td>1000</td>\n",
       "      <td>5417</td>\n",
       "      <td>182.79</td>\n",
       "    </tr>\n",
       "    <tr>\n",
       "      <th>1048573</th>\n",
       "      <td>1048573</td>\n",
       "      <td>2023-04-20 10:07:39</td>\n",
       "      <td>3028</td>\n",
       "      <td>6439</td>\n",
       "      <td>455.44</td>\n",
       "    </tr>\n",
       "    <tr>\n",
       "      <th>1048574</th>\n",
       "      <td>1048574</td>\n",
       "      <td>2023-04-20 10:07:43</td>\n",
       "      <td>3252</td>\n",
       "      <td>6009</td>\n",
       "      <td>304.55</td>\n",
       "    </tr>\n",
       "  </tbody>\n",
       "</table>\n",
       "</div>"
      ],
      "text/plain": [
       "         TRANSACTION_ID          TX_DATETIME  CUSTOMER_ID  TERMINAL_ID  \\\n",
       "1048570         1048570  2023-04-20 10:07:13         2380         3780   \n",
       "1048571         1048571  2023-04-20 10:07:28          738         5151   \n",
       "1048572         1048572  2023-04-20 10:07:33         1000         5417   \n",
       "1048573         1048573  2023-04-20 10:07:39         3028         6439   \n",
       "1048574         1048574  2023-04-20 10:07:43         3252         6009   \n",
       "\n",
       "         TX_AMOUNT  \n",
       "1048570     325.64  \n",
       "1048571      20.38  \n",
       "1048572     182.79  \n",
       "1048573     455.44  \n",
       "1048574     304.55  "
      ]
     },
     "execution_count": 224,
     "metadata": {},
     "output_type": "execute_result"
    }
   ],
   "source": [
    "trans_df.tail()"
   ]
  },
  {
   "cell_type": "code",
   "execution_count": 225,
   "metadata": {},
   "outputs": [
    {
     "name": "stdout",
     "output_type": "stream",
     "text": [
      "<class 'pandas.core.frame.DataFrame'>\n",
      "RangeIndex: 1048575 entries, 0 to 1048574\n",
      "Data columns (total 5 columns):\n",
      " #   Column          Non-Null Count    Dtype  \n",
      "---  ------          --------------    -----  \n",
      " 0   TRANSACTION_ID  1048575 non-null  int64  \n",
      " 1   TX_DATETIME     1048575 non-null  object \n",
      " 2   CUSTOMER_ID     1048575 non-null  int64  \n",
      " 3   TERMINAL_ID     1048575 non-null  int64  \n",
      " 4   TX_AMOUNT       1048575 non-null  float64\n",
      "dtypes: float64(1), int64(3), object(1)\n",
      "memory usage: 40.0+ MB\n"
     ]
    }
   ],
   "source": [
    "trans_df.info()"
   ]
  },
  {
   "attachments": {},
   "cell_type": "markdown",
   "metadata": {},
   "source": [
    "Загружаем данные из датасета в таблицу БД"
   ]
  },
  {
   "cell_type": "code",
   "execution_count": 226,
   "metadata": {},
   "outputs": [
    {
     "name": "stdout",
     "output_type": "stream",
     "text": [
      "Data inserted successfully\n"
     ]
    }
   ],
   "source": [
    "sql_insert(trans_df, transaction_table, conn, 0, trans_df.shape[1])"
   ]
  },
  {
   "attachments": {},
   "cell_type": "markdown",
   "metadata": {},
   "source": [
    "Проверяем соответствие атрибутов условию"
   ]
  },
  {
   "cell_type": "code",
   "execution_count": 227,
   "metadata": {},
   "outputs": [
    {
     "name": "stdout",
     "output_type": "stream",
     "text": [
      "(0, 'transaction_id', 'INTEGER', 0, None, 0)\n",
      "(1, 'tx_datetime', 'NUMERIC', 0, None, 0)\n",
      "(2, 'customer_id', 'INTEGER', 0, None, 0)\n",
      "(3, 'terminal_id', 'INTEGER', 0, None, 0)\n",
      "(4, 'tx_amount', 'REAL', 0, None, 0)\n"
     ]
    }
   ],
   "source": [
    "table_info(transaction_table, conn)"
   ]
  },
  {
   "attachments": {},
   "cell_type": "markdown",
   "metadata": {},
   "source": [
    "Выберем 10 записей из таблицы и посмотрим на результат"
   ]
  },
  {
   "cell_type": "code",
   "execution_count": 228,
   "metadata": {},
   "outputs": [
    {
     "data": {
      "text/html": [
       "<div>\n",
       "<style scoped>\n",
       "    .dataframe tbody tr th:only-of-type {\n",
       "        vertical-align: middle;\n",
       "    }\n",
       "\n",
       "    .dataframe tbody tr th {\n",
       "        vertical-align: top;\n",
       "    }\n",
       "\n",
       "    .dataframe thead th {\n",
       "        text-align: right;\n",
       "    }\n",
       "</style>\n",
       "<table border=\"1\" class=\"dataframe\">\n",
       "  <thead>\n",
       "    <tr style=\"text-align: right;\">\n",
       "      <th></th>\n",
       "      <th>transaction_id</th>\n",
       "      <th>tx_datetime</th>\n",
       "      <th>customer_id</th>\n",
       "      <th>terminal_id</th>\n",
       "      <th>tx_amount</th>\n",
       "    </tr>\n",
       "  </thead>\n",
       "  <tbody>\n",
       "    <tr>\n",
       "      <th>0</th>\n",
       "      <td>0</td>\n",
       "      <td>2023-01-01 00:00:31</td>\n",
       "      <td>596</td>\n",
       "      <td>3156</td>\n",
       "      <td>533.07</td>\n",
       "    </tr>\n",
       "    <tr>\n",
       "      <th>1</th>\n",
       "      <td>1</td>\n",
       "      <td>2023-01-01 00:02:10</td>\n",
       "      <td>4961</td>\n",
       "      <td>3412</td>\n",
       "      <td>808.56</td>\n",
       "    </tr>\n",
       "    <tr>\n",
       "      <th>2</th>\n",
       "      <td>2</td>\n",
       "      <td>2023-01-01 00:07:56</td>\n",
       "      <td>2</td>\n",
       "      <td>1365</td>\n",
       "      <td>1442.94</td>\n",
       "    </tr>\n",
       "    <tr>\n",
       "      <th>3</th>\n",
       "      <td>3</td>\n",
       "      <td>2023-01-01 00:09:29</td>\n",
       "      <td>4128</td>\n",
       "      <td>8737</td>\n",
       "      <td>620.65</td>\n",
       "    </tr>\n",
       "    <tr>\n",
       "      <th>4</th>\n",
       "      <td>4</td>\n",
       "      <td>2023-01-01 00:10:34</td>\n",
       "      <td>927</td>\n",
       "      <td>9906</td>\n",
       "      <td>490.66</td>\n",
       "    </tr>\n",
       "    <tr>\n",
       "      <th>5</th>\n",
       "      <td>5</td>\n",
       "      <td>2023-01-01 00:10:45</td>\n",
       "      <td>568</td>\n",
       "      <td>8803</td>\n",
       "      <td>401.17</td>\n",
       "    </tr>\n",
       "    <tr>\n",
       "      <th>6</th>\n",
       "      <td>6</td>\n",
       "      <td>2023-01-01 00:11:30</td>\n",
       "      <td>2803</td>\n",
       "      <td>5490</td>\n",
       "      <td>938.54</td>\n",
       "    </tr>\n",
       "    <tr>\n",
       "      <th>7</th>\n",
       "      <td>7</td>\n",
       "      <td>2023-01-01 00:11:44</td>\n",
       "      <td>4684</td>\n",
       "      <td>2486</td>\n",
       "      <td>206.53</td>\n",
       "    </tr>\n",
       "    <tr>\n",
       "      <th>8</th>\n",
       "      <td>8</td>\n",
       "      <td>2023-01-01 00:11:53</td>\n",
       "      <td>4128</td>\n",
       "      <td>8354</td>\n",
       "      <td>253.47</td>\n",
       "    </tr>\n",
       "    <tr>\n",
       "      <th>9</th>\n",
       "      <td>9</td>\n",
       "      <td>2023-01-01 00:13:44</td>\n",
       "      <td>541</td>\n",
       "      <td>6212</td>\n",
       "      <td>555.63</td>\n",
       "    </tr>\n",
       "  </tbody>\n",
       "</table>\n",
       "</div>"
      ],
      "text/plain": [
       "   transaction_id          tx_datetime  customer_id  terminal_id  tx_amount\n",
       "0               0  2023-01-01 00:00:31          596         3156     533.07\n",
       "1               1  2023-01-01 00:02:10         4961         3412     808.56\n",
       "2               2  2023-01-01 00:07:56            2         1365    1442.94\n",
       "3               3  2023-01-01 00:09:29         4128         8737     620.65\n",
       "4               4  2023-01-01 00:10:34          927         9906     490.66\n",
       "5               5  2023-01-01 00:10:45          568         8803     401.17\n",
       "6               6  2023-01-01 00:11:30         2803         5490     938.54\n",
       "7               7  2023-01-01 00:11:44         4684         2486     206.53\n",
       "8               8  2023-01-01 00:11:53         4128         8354     253.47\n",
       "9               9  2023-01-01 00:13:44          541         6212     555.63"
      ]
     },
     "execution_count": 228,
     "metadata": {},
     "output_type": "execute_result"
    }
   ],
   "source": [
    "pd.read_sql(\n",
    "    f'''\n",
    "    SELECT * \n",
    "    FROM {transaction_table} \n",
    "    LIMIT 10\n",
    "    ''', \n",
    "conn)"
   ]
  },
  {
   "attachments": {},
   "cell_type": "markdown",
   "metadata": {},
   "source": [
    "Создаем таблицу клиентов в БД.<br/>\n",
    "По условию, колонки должны иметь разные типы. Посмотрим на полученный результат и типы столбцов после загрузки данных из датасета."
   ]
  },
  {
   "cell_type": "code",
   "execution_count": 229,
   "metadata": {},
   "outputs": [
    {
     "name": "stdout",
     "output_type": "stream",
     "text": [
      "Query executed successfully\n"
     ]
    }
   ],
   "source": [
    "execute_query(\n",
    "    f'''\n",
    "    CREATE TABLE IF NOT EXISTS {customer_table} (\n",
    "        client_id INTEGER,\n",
    "        start_dt NUMERIC,\n",
    "        end_dt NUMERIC,\n",
    "        client_name TEXT,\n",
    "        year_birth TEXT\n",
    "    );\n",
    "    ''',\n",
    "conn)"
   ]
  },
  {
   "attachments": {},
   "cell_type": "markdown",
   "metadata": {},
   "source": [
    "Загружаем данные из csv в датасет"
   ]
  },
  {
   "cell_type": "code",
   "execution_count": 230,
   "metadata": {},
   "outputs": [],
   "source": [
    "client_df = pd.read_csv('data/client_info.csv', delimiter=';')"
   ]
  },
  {
   "attachments": {},
   "cell_type": "markdown",
   "metadata": {},
   "source": [
    "Посмотрим на датасет"
   ]
  },
  {
   "cell_type": "code",
   "execution_count": 231,
   "metadata": {},
   "outputs": [
    {
     "data": {
      "text/html": [
       "<div>\n",
       "<style scoped>\n",
       "    .dataframe tbody tr th:only-of-type {\n",
       "        vertical-align: middle;\n",
       "    }\n",
       "\n",
       "    .dataframe tbody tr th {\n",
       "        vertical-align: top;\n",
       "    }\n",
       "\n",
       "    .dataframe thead th {\n",
       "        text-align: right;\n",
       "    }\n",
       "</style>\n",
       "<table border=\"1\" class=\"dataframe\">\n",
       "  <thead>\n",
       "    <tr style=\"text-align: right;\">\n",
       "      <th></th>\n",
       "      <th>START_DT</th>\n",
       "      <th>END_DT</th>\n",
       "      <th>CLIENT_NAME</th>\n",
       "      <th>YEAR_BIRTH</th>\n",
       "      <th>CLIENT_ID</th>\n",
       "    </tr>\n",
       "  </thead>\n",
       "  <tbody>\n",
       "    <tr>\n",
       "      <th>0</th>\n",
       "      <td>2015-07-16</td>\n",
       "      <td>2021-01-01</td>\n",
       "      <td>Olivia</td>\n",
       "      <td>1979</td>\n",
       "      <td>2213</td>\n",
       "    </tr>\n",
       "    <tr>\n",
       "      <th>1</th>\n",
       "      <td>2015-07-17</td>\n",
       "      <td>2021-01-01</td>\n",
       "      <td>Emma</td>\n",
       "      <td>1979</td>\n",
       "      <td>1148</td>\n",
       "    </tr>\n",
       "    <tr>\n",
       "      <th>2</th>\n",
       "      <td>2015-07-18</td>\n",
       "      <td>2021-01-01</td>\n",
       "      <td>Charlotte</td>\n",
       "      <td>1979</td>\n",
       "      <td>2293</td>\n",
       "    </tr>\n",
       "    <tr>\n",
       "      <th>3</th>\n",
       "      <td>2015-07-19</td>\n",
       "      <td>2021-01-01</td>\n",
       "      <td>Amelia</td>\n",
       "      <td>1979</td>\n",
       "      <td>1867</td>\n",
       "    </tr>\n",
       "    <tr>\n",
       "      <th>4</th>\n",
       "      <td>2015-07-20</td>\n",
       "      <td>2021-01-01</td>\n",
       "      <td>Ava</td>\n",
       "      <td>1979</td>\n",
       "      <td>1767</td>\n",
       "    </tr>\n",
       "  </tbody>\n",
       "</table>\n",
       "</div>"
      ],
      "text/plain": [
       "     START_DT      END_DT CLIENT_NAME  YEAR_BIRTH  CLIENT_ID\n",
       "0  2015-07-16  2021-01-01      Olivia        1979       2213\n",
       "1  2015-07-17  2021-01-01        Emma        1979       1148\n",
       "2  2015-07-18  2021-01-01   Charlotte        1979       2293\n",
       "3  2015-07-19  2021-01-01      Amelia        1979       1867\n",
       "4  2015-07-20  2021-01-01         Ava        1979       1767"
      ]
     },
     "execution_count": 231,
     "metadata": {},
     "output_type": "execute_result"
    }
   ],
   "source": [
    "client_df.head()"
   ]
  },
  {
   "cell_type": "code",
   "execution_count": 232,
   "metadata": {},
   "outputs": [
    {
     "data": {
      "text/html": [
       "<div>\n",
       "<style scoped>\n",
       "    .dataframe tbody tr th:only-of-type {\n",
       "        vertical-align: middle;\n",
       "    }\n",
       "\n",
       "    .dataframe tbody tr th {\n",
       "        vertical-align: top;\n",
       "    }\n",
       "\n",
       "    .dataframe thead th {\n",
       "        text-align: right;\n",
       "    }\n",
       "</style>\n",
       "<table border=\"1\" class=\"dataframe\">\n",
       "  <thead>\n",
       "    <tr style=\"text-align: right;\">\n",
       "      <th></th>\n",
       "      <th>START_DT</th>\n",
       "      <th>END_DT</th>\n",
       "      <th>CLIENT_NAME</th>\n",
       "      <th>YEAR_BIRTH</th>\n",
       "      <th>CLIENT_ID</th>\n",
       "    </tr>\n",
       "  </thead>\n",
       "  <tbody>\n",
       "    <tr>\n",
       "      <th>4983</th>\n",
       "      <td>2023-04-20</td>\n",
       "      <td>2999-12-31</td>\n",
       "      <td>Havilah</td>\n",
       "      <td>2000</td>\n",
       "      <td>4737</td>\n",
       "    </tr>\n",
       "    <tr>\n",
       "      <th>4984</th>\n",
       "      <td>2023-04-20</td>\n",
       "      <td>2999-12-31</td>\n",
       "      <td>Hazelyn</td>\n",
       "      <td>2000</td>\n",
       "      <td>2301</td>\n",
       "    </tr>\n",
       "    <tr>\n",
       "      <th>4985</th>\n",
       "      <td>2023-04-20</td>\n",
       "      <td>2999-12-31</td>\n",
       "      <td>Helaina</td>\n",
       "      <td>2000</td>\n",
       "      <td>3238</td>\n",
       "    </tr>\n",
       "    <tr>\n",
       "      <th>4986</th>\n",
       "      <td>2023-04-20</td>\n",
       "      <td>2999-12-31</td>\n",
       "      <td>Helene</td>\n",
       "      <td>2000</td>\n",
       "      <td>3946</td>\n",
       "    </tr>\n",
       "    <tr>\n",
       "      <th>4987</th>\n",
       "      <td>2023-04-20</td>\n",
       "      <td>2999-12-31</td>\n",
       "      <td>Idalis</td>\n",
       "      <td>2000</td>\n",
       "      <td>2853</td>\n",
       "    </tr>\n",
       "  </tbody>\n",
       "</table>\n",
       "</div>"
      ],
      "text/plain": [
       "        START_DT      END_DT CLIENT_NAME  YEAR_BIRTH  CLIENT_ID\n",
       "4983  2023-04-20  2999-12-31     Havilah        2000       4737\n",
       "4984  2023-04-20  2999-12-31     Hazelyn        2000       2301\n",
       "4985  2023-04-20  2999-12-31     Helaina        2000       3238\n",
       "4986  2023-04-20  2999-12-31      Helene        2000       3946\n",
       "4987  2023-04-20  2999-12-31      Idalis        2000       2853"
      ]
     },
     "execution_count": 232,
     "metadata": {},
     "output_type": "execute_result"
    }
   ],
   "source": [
    "client_df.tail()"
   ]
  },
  {
   "cell_type": "code",
   "execution_count": 233,
   "metadata": {},
   "outputs": [
    {
     "name": "stdout",
     "output_type": "stream",
     "text": [
      "<class 'pandas.core.frame.DataFrame'>\n",
      "RangeIndex: 4988 entries, 0 to 4987\n",
      "Data columns (total 5 columns):\n",
      " #   Column       Non-Null Count  Dtype \n",
      "---  ------       --------------  ----- \n",
      " 0   START_DT     4988 non-null   object\n",
      " 1   END_DT       4988 non-null   object\n",
      " 2   CLIENT_NAME  4988 non-null   object\n",
      " 3   YEAR_BIRTH   4988 non-null   int64 \n",
      " 4   CLIENT_ID    4988 non-null   int64 \n",
      "dtypes: int64(2), object(3)\n",
      "memory usage: 195.0+ KB\n"
     ]
    }
   ],
   "source": [
    "client_df.info()"
   ]
  },
  {
   "attachments": {},
   "cell_type": "markdown",
   "metadata": {},
   "source": [
    "Загружаем данные из датасета в таблицу БД"
   ]
  },
  {
   "cell_type": "code",
   "execution_count": 234,
   "metadata": {},
   "outputs": [
    {
     "name": "stdout",
     "output_type": "stream",
     "text": [
      "Data inserted successfully\n"
     ]
    }
   ],
   "source": [
    "sql_insert(client_df, customer_table, conn, 0, client_df.shape[1])"
   ]
  },
  {
   "attachments": {},
   "cell_type": "markdown",
   "metadata": {},
   "source": [
    "Проверяем соответствие атрибутов условию"
   ]
  },
  {
   "cell_type": "code",
   "execution_count": 235,
   "metadata": {},
   "outputs": [
    {
     "name": "stdout",
     "output_type": "stream",
     "text": [
      "(0, 'client_id', 'INTEGER', 0, None, 0)\n",
      "(1, 'start_dt', 'NUMERIC', 0, None, 0)\n",
      "(2, 'end_dt', 'NUMERIC', 0, None, 0)\n",
      "(3, 'client_name', 'TEXT', 0, None, 0)\n",
      "(4, 'year_birth', 'TEXT', 0, None, 0)\n"
     ]
    }
   ],
   "source": [
    "table_info(customer_table, conn)"
   ]
  },
  {
   "attachments": {},
   "cell_type": "markdown",
   "metadata": {},
   "source": [
    "Выберем 10 записей из таблицы и посмотрим на результат"
   ]
  },
  {
   "cell_type": "code",
   "execution_count": 236,
   "metadata": {},
   "outputs": [
    {
     "data": {
      "text/html": [
       "<div>\n",
       "<style scoped>\n",
       "    .dataframe tbody tr th:only-of-type {\n",
       "        vertical-align: middle;\n",
       "    }\n",
       "\n",
       "    .dataframe tbody tr th {\n",
       "        vertical-align: top;\n",
       "    }\n",
       "\n",
       "    .dataframe thead th {\n",
       "        text-align: right;\n",
       "    }\n",
       "</style>\n",
       "<table border=\"1\" class=\"dataframe\">\n",
       "  <thead>\n",
       "    <tr style=\"text-align: right;\">\n",
       "      <th></th>\n",
       "      <th>client_id</th>\n",
       "      <th>start_dt</th>\n",
       "      <th>end_dt</th>\n",
       "      <th>client_name</th>\n",
       "      <th>year_birth</th>\n",
       "    </tr>\n",
       "  </thead>\n",
       "  <tbody>\n",
       "    <tr>\n",
       "      <th>0</th>\n",
       "      <td>2213</td>\n",
       "      <td>2015-07-16</td>\n",
       "      <td>2021-01-01</td>\n",
       "      <td>Olivia</td>\n",
       "      <td>1979</td>\n",
       "    </tr>\n",
       "    <tr>\n",
       "      <th>1</th>\n",
       "      <td>1148</td>\n",
       "      <td>2015-07-17</td>\n",
       "      <td>2021-01-01</td>\n",
       "      <td>Emma</td>\n",
       "      <td>1979</td>\n",
       "    </tr>\n",
       "    <tr>\n",
       "      <th>2</th>\n",
       "      <td>2293</td>\n",
       "      <td>2015-07-18</td>\n",
       "      <td>2021-01-01</td>\n",
       "      <td>Charlotte</td>\n",
       "      <td>1979</td>\n",
       "    </tr>\n",
       "    <tr>\n",
       "      <th>3</th>\n",
       "      <td>1867</td>\n",
       "      <td>2015-07-19</td>\n",
       "      <td>2021-01-01</td>\n",
       "      <td>Amelia</td>\n",
       "      <td>1979</td>\n",
       "    </tr>\n",
       "    <tr>\n",
       "      <th>4</th>\n",
       "      <td>1767</td>\n",
       "      <td>2015-07-20</td>\n",
       "      <td>2021-01-01</td>\n",
       "      <td>Ava</td>\n",
       "      <td>1979</td>\n",
       "    </tr>\n",
       "    <tr>\n",
       "      <th>5</th>\n",
       "      <td>3853</td>\n",
       "      <td>2015-07-21</td>\n",
       "      <td>2021-01-01</td>\n",
       "      <td>Sophia</td>\n",
       "      <td>1979</td>\n",
       "    </tr>\n",
       "    <tr>\n",
       "      <th>6</th>\n",
       "      <td>1605</td>\n",
       "      <td>2015-07-22</td>\n",
       "      <td>2021-01-01</td>\n",
       "      <td>Isabella</td>\n",
       "      <td>1979</td>\n",
       "    </tr>\n",
       "    <tr>\n",
       "      <th>7</th>\n",
       "      <td>3273</td>\n",
       "      <td>2015-07-23</td>\n",
       "      <td>2021-01-01</td>\n",
       "      <td>Mia</td>\n",
       "      <td>1979</td>\n",
       "    </tr>\n",
       "    <tr>\n",
       "      <th>8</th>\n",
       "      <td>147</td>\n",
       "      <td>2015-07-24</td>\n",
       "      <td>2021-01-01</td>\n",
       "      <td>Evelyn</td>\n",
       "      <td>1979</td>\n",
       "    </tr>\n",
       "    <tr>\n",
       "      <th>9</th>\n",
       "      <td>1420</td>\n",
       "      <td>2015-07-25</td>\n",
       "      <td>2021-01-01</td>\n",
       "      <td>Harper</td>\n",
       "      <td>1979</td>\n",
       "    </tr>\n",
       "  </tbody>\n",
       "</table>\n",
       "</div>"
      ],
      "text/plain": [
       "   client_id    start_dt      end_dt client_name year_birth\n",
       "0       2213  2015-07-16  2021-01-01      Olivia       1979\n",
       "1       1148  2015-07-17  2021-01-01        Emma       1979\n",
       "2       2293  2015-07-18  2021-01-01   Charlotte       1979\n",
       "3       1867  2015-07-19  2021-01-01      Amelia       1979\n",
       "4       1767  2015-07-20  2021-01-01         Ava       1979\n",
       "5       3853  2015-07-21  2021-01-01      Sophia       1979\n",
       "6       1605  2015-07-22  2021-01-01    Isabella       1979\n",
       "7       3273  2015-07-23  2021-01-01         Mia       1979\n",
       "8        147  2015-07-24  2021-01-01      Evelyn       1979\n",
       "9       1420  2015-07-25  2021-01-01      Harper       1979"
      ]
     },
     "execution_count": 236,
     "metadata": {},
     "output_type": "execute_result"
    }
   ],
   "source": [
    "pd.read_sql(\n",
    "    f'''\n",
    "    SELECT * \n",
    "    FROM {customer_table} \n",
    "    LIMIT 10\n",
    "    ''', \n",
    "conn)"
   ]
  },
  {
   "attachments": {},
   "cell_type": "markdown",
   "metadata": {},
   "source": [
    "## Шаг 2"
   ]
  },
  {
   "attachments": {},
   "cell_type": "markdown",
   "metadata": {},
   "source": [
    "> **(Балл - 2 за каждый пункт)** Написать скрипты:"
   ]
  },
  {
   "attachments": {},
   "cell_type": "markdown",
   "metadata": {},
   "source": [
    "> a. Вывести список всех клиентов, у которых между двумя ближайшими транзакциями был перерыв больше 35 дней хотя бы один раз (клиент должен быть действующим, то есть дата закрытия записи о клиенте не должна быть меньше дня относительно которого мы считаемся)."
   ]
  },
  {
   "cell_type": "code",
   "execution_count": 237,
   "metadata": {},
   "outputs": [
    {
     "data": {
      "text/html": [
       "<div>\n",
       "<style scoped>\n",
       "    .dataframe tbody tr th:only-of-type {\n",
       "        vertical-align: middle;\n",
       "    }\n",
       "\n",
       "    .dataframe tbody tr th {\n",
       "        vertical-align: top;\n",
       "    }\n",
       "\n",
       "    .dataframe thead th {\n",
       "        text-align: right;\n",
       "    }\n",
       "</style>\n",
       "<table border=\"1\" class=\"dataframe\">\n",
       "  <thead>\n",
       "    <tr style=\"text-align: right;\">\n",
       "      <th></th>\n",
       "      <th>client_id</th>\n",
       "      <th>client_name</th>\n",
       "    </tr>\n",
       "  </thead>\n",
       "  <tbody>\n",
       "    <tr>\n",
       "      <th>0</th>\n",
       "      <td>24</td>\n",
       "      <td>Kiarra</td>\n",
       "    </tr>\n",
       "    <tr>\n",
       "      <th>1</th>\n",
       "      <td>480</td>\n",
       "      <td>Vaishnavi</td>\n",
       "    </tr>\n",
       "    <tr>\n",
       "      <th>2</th>\n",
       "      <td>639</td>\n",
       "      <td>Malayna</td>\n",
       "    </tr>\n",
       "    <tr>\n",
       "      <th>3</th>\n",
       "      <td>707</td>\n",
       "      <td>Becca</td>\n",
       "    </tr>\n",
       "    <tr>\n",
       "      <th>4</th>\n",
       "      <td>812</td>\n",
       "      <td>Avionna</td>\n",
       "    </tr>\n",
       "    <tr>\n",
       "      <th>5</th>\n",
       "      <td>896</td>\n",
       "      <td>Macarena</td>\n",
       "    </tr>\n",
       "    <tr>\n",
       "      <th>6</th>\n",
       "      <td>1129</td>\n",
       "      <td>Kavya</td>\n",
       "    </tr>\n",
       "    <tr>\n",
       "      <th>7</th>\n",
       "      <td>1299</td>\n",
       "      <td>Nalah</td>\n",
       "    </tr>\n",
       "    <tr>\n",
       "      <th>8</th>\n",
       "      <td>1334</td>\n",
       "      <td>Blakley</td>\n",
       "    </tr>\n",
       "    <tr>\n",
       "      <th>9</th>\n",
       "      <td>1459</td>\n",
       "      <td>Nalia</td>\n",
       "    </tr>\n",
       "    <tr>\n",
       "      <th>10</th>\n",
       "      <td>1637</td>\n",
       "      <td>Adler</td>\n",
       "    </tr>\n",
       "    <tr>\n",
       "      <th>11</th>\n",
       "      <td>1923</td>\n",
       "      <td>Amila</td>\n",
       "    </tr>\n",
       "    <tr>\n",
       "      <th>12</th>\n",
       "      <td>2061</td>\n",
       "      <td>Emaline</td>\n",
       "    </tr>\n",
       "    <tr>\n",
       "      <th>13</th>\n",
       "      <td>2093</td>\n",
       "      <td>Lenni</td>\n",
       "    </tr>\n",
       "    <tr>\n",
       "      <th>14</th>\n",
       "      <td>2105</td>\n",
       "      <td>Empress</td>\n",
       "    </tr>\n",
       "    <tr>\n",
       "      <th>15</th>\n",
       "      <td>2201</td>\n",
       "      <td>Makenzi</td>\n",
       "    </tr>\n",
       "    <tr>\n",
       "      <th>16</th>\n",
       "      <td>2284</td>\n",
       "      <td>Imara</td>\n",
       "    </tr>\n",
       "    <tr>\n",
       "      <th>17</th>\n",
       "      <td>2307</td>\n",
       "      <td>Naomie</td>\n",
       "    </tr>\n",
       "    <tr>\n",
       "      <th>18</th>\n",
       "      <td>2368</td>\n",
       "      <td>Delyla</td>\n",
       "    </tr>\n",
       "    <tr>\n",
       "      <th>19</th>\n",
       "      <td>2374</td>\n",
       "      <td>Shanvi</td>\n",
       "    </tr>\n",
       "    <tr>\n",
       "      <th>20</th>\n",
       "      <td>3216</td>\n",
       "      <td>Elleigh</td>\n",
       "    </tr>\n",
       "    <tr>\n",
       "      <th>21</th>\n",
       "      <td>3352</td>\n",
       "      <td>Choyce</td>\n",
       "    </tr>\n",
       "    <tr>\n",
       "      <th>22</th>\n",
       "      <td>3403</td>\n",
       "      <td>Mariafernanda</td>\n",
       "    </tr>\n",
       "    <tr>\n",
       "      <th>23</th>\n",
       "      <td>3418</td>\n",
       "      <td>Dearra</td>\n",
       "    </tr>\n",
       "    <tr>\n",
       "      <th>24</th>\n",
       "      <td>3478</td>\n",
       "      <td>Paislynn</td>\n",
       "    </tr>\n",
       "    <tr>\n",
       "      <th>25</th>\n",
       "      <td>3608</td>\n",
       "      <td>Norma</td>\n",
       "    </tr>\n",
       "    <tr>\n",
       "      <th>26</th>\n",
       "      <td>3645</td>\n",
       "      <td>Meara</td>\n",
       "    </tr>\n",
       "    <tr>\n",
       "      <th>27</th>\n",
       "      <td>3990</td>\n",
       "      <td>Mera</td>\n",
       "    </tr>\n",
       "    <tr>\n",
       "      <th>28</th>\n",
       "      <td>4224</td>\n",
       "      <td>Havana</td>\n",
       "    </tr>\n",
       "    <tr>\n",
       "      <th>29</th>\n",
       "      <td>4388</td>\n",
       "      <td>Willamina</td>\n",
       "    </tr>\n",
       "    <tr>\n",
       "      <th>30</th>\n",
       "      <td>4562</td>\n",
       "      <td>Ryley</td>\n",
       "    </tr>\n",
       "    <tr>\n",
       "      <th>31</th>\n",
       "      <td>4618</td>\n",
       "      <td>Esmerelda</td>\n",
       "    </tr>\n",
       "    <tr>\n",
       "      <th>32</th>\n",
       "      <td>4650</td>\n",
       "      <td>Maiya</td>\n",
       "    </tr>\n",
       "    <tr>\n",
       "      <th>33</th>\n",
       "      <td>4875</td>\n",
       "      <td>Karson</td>\n",
       "    </tr>\n",
       "  </tbody>\n",
       "</table>\n",
       "</div>"
      ],
      "text/plain": [
       "    client_id    client_name\n",
       "0          24         Kiarra\n",
       "1         480      Vaishnavi\n",
       "2         639        Malayna\n",
       "3         707          Becca\n",
       "4         812        Avionna\n",
       "5         896       Macarena\n",
       "6        1129          Kavya\n",
       "7        1299          Nalah\n",
       "8        1334        Blakley\n",
       "9        1459          Nalia\n",
       "10       1637          Adler\n",
       "11       1923          Amila\n",
       "12       2061        Emaline\n",
       "13       2093          Lenni\n",
       "14       2105        Empress\n",
       "15       2201        Makenzi\n",
       "16       2284          Imara\n",
       "17       2307         Naomie\n",
       "18       2368         Delyla\n",
       "19       2374         Shanvi\n",
       "20       3216        Elleigh\n",
       "21       3352         Choyce\n",
       "22       3403  Mariafernanda\n",
       "23       3418         Dearra\n",
       "24       3478       Paislynn\n",
       "25       3608          Norma\n",
       "26       3645          Meara\n",
       "27       3990           Mera\n",
       "28       4224         Havana\n",
       "29       4388      Willamina\n",
       "30       4562          Ryley\n",
       "31       4618      Esmerelda\n",
       "32       4650          Maiya\n",
       "33       4875         Karson"
      ]
     },
     "execution_count": 237,
     "metadata": {},
     "output_type": "execute_result"
    }
   ],
   "source": [
    "pd.read_sql(\n",
    "    f'''\n",
    "    SELECT DISTINCT \n",
    "        tmp.customer_id AS client_id,\n",
    "        tmp.client_name AS client_name\n",
    "    FROM (\n",
    "        SELECT \n",
    "            tt.customer_id,\n",
    "            ct.client_name,\n",
    "            JULIANDAY(tt.tx_datetime) - LAG(JULIANDAY(tt.tx_datetime)) OVER (PARTITION BY tt.customer_id ORDER BY JULIANDAY(tt.tx_datetime)) AS diff\n",
    "        FROM \n",
    "            {transaction_table} AS tt\n",
    "        JOIN {customer_table} AS ct\n",
    "            ON tt.customer_id = ct.client_id\n",
    "            AND DATE(ct.end_dt) >= DATE('{default_date}') \n",
    "    ) AS tmp \n",
    "    WHERE tmp.diff > 35\n",
    "    ''', \n",
    "conn)"
   ]
  },
  {
   "attachments": {},
   "cell_type": "markdown",
   "metadata": {},
   "source": [
    "> b. Вывести список клиентов, у которых максимальная сумма транзакции (имеется ввиду максимальное значение TX_AMOUNT) больше 50000. В ответе должен быть id клиента, максимальное значение суммы транзакций, минимальное значение суммы транзакций (клиент должен быть действующим, то есть дата закрытия записи о клиенте не должна быть меньше дня относительно которого мы считаемся)."
   ]
  },
  {
   "cell_type": "code",
   "execution_count": 238,
   "metadata": {},
   "outputs": [
    {
     "data": {
      "text/html": [
       "<div>\n",
       "<style scoped>\n",
       "    .dataframe tbody tr th:only-of-type {\n",
       "        vertical-align: middle;\n",
       "    }\n",
       "\n",
       "    .dataframe tbody tr th {\n",
       "        vertical-align: top;\n",
       "    }\n",
       "\n",
       "    .dataframe thead th {\n",
       "        text-align: right;\n",
       "    }\n",
       "</style>\n",
       "<table border=\"1\" class=\"dataframe\">\n",
       "  <thead>\n",
       "    <tr style=\"text-align: right;\">\n",
       "      <th></th>\n",
       "      <th>client_id</th>\n",
       "      <th>max_trans_amount</th>\n",
       "      <th>min_trans_amount</th>\n",
       "    </tr>\n",
       "  </thead>\n",
       "  <tbody>\n",
       "    <tr>\n",
       "      <th>0</th>\n",
       "      <td>3013</td>\n",
       "      <td>77212.50</td>\n",
       "      <td>1.46</td>\n",
       "    </tr>\n",
       "    <tr>\n",
       "      <th>1</th>\n",
       "      <td>3494</td>\n",
       "      <td>53213.00</td>\n",
       "      <td>85.76</td>\n",
       "    </tr>\n",
       "    <tr>\n",
       "      <th>2</th>\n",
       "      <td>4253</td>\n",
       "      <td>51937.25</td>\n",
       "      <td>37.95</td>\n",
       "    </tr>\n",
       "  </tbody>\n",
       "</table>\n",
       "</div>"
      ],
      "text/plain": [
       "   client_id  max_trans_amount  min_trans_amount\n",
       "0       3013          77212.50              1.46\n",
       "1       3494          53213.00             85.76\n",
       "2       4253          51937.25             37.95"
      ]
     },
     "execution_count": 238,
     "metadata": {},
     "output_type": "execute_result"
    }
   ],
   "source": [
    "pd.read_sql(\n",
    "    f'''\n",
    "    SELECT \n",
    "        tmp.customer_id AS client_id,\n",
    "        tmp.max AS max_trans_amount,\n",
    "        tmp.min AS min_trans_amount\n",
    "    FROM (\n",
    "        SELECT DISTINCT\n",
    "            tt.customer_id,\n",
    "            MAX(tt.tx_amount) OVER (PARTITION BY tt.customer_id) AS max,\n",
    "            MIN(tt.tx_amount) OVER (PARTITION BY tt.customer_id) AS min\n",
    "        FROM \n",
    "            {transaction_table} AS tt\n",
    "        JOIN {customer_table} AS ct\n",
    "            ON tt.customer_id = ct.client_id\n",
    "            AND DATE(ct.end_dt) >= DATE('{default_date}') \n",
    "    ) AS tmp \n",
    "    WHERE tmp.max > 50000\n",
    "    ''', \n",
    "conn)"
   ]
  },
  {
   "attachments": {},
   "cell_type": "markdown",
   "metadata": {},
   "source": [
    "> c. Вывести топ-10 клиентов (сортируя их по убыванию id), у которых сумма дневных транзакций больше суммы вечерних транзакций. Условимся, что дневными считаются транзакции, которые были произведены до 12 часов, а вечерними - после 12 часов включительно. (клиент должен быть действующим, то есть дата закрытия записи о клиенте не должна быть меньше дня относительно которого мы считаемся)."
   ]
  },
  {
   "cell_type": "code",
   "execution_count": 239,
   "metadata": {},
   "outputs": [
    {
     "data": {
      "text/html": [
       "<div>\n",
       "<style scoped>\n",
       "    .dataframe tbody tr th:only-of-type {\n",
       "        vertical-align: middle;\n",
       "    }\n",
       "\n",
       "    .dataframe tbody tr th {\n",
       "        vertical-align: top;\n",
       "    }\n",
       "\n",
       "    .dataframe thead th {\n",
       "        text-align: right;\n",
       "    }\n",
       "</style>\n",
       "<table border=\"1\" class=\"dataframe\">\n",
       "  <thead>\n",
       "    <tr style=\"text-align: right;\">\n",
       "      <th></th>\n",
       "      <th>client_id</th>\n",
       "      <th>client_name</th>\n",
       "      <th>diff_btw_day_night</th>\n",
       "    </tr>\n",
       "  </thead>\n",
       "  <tbody>\n",
       "    <tr>\n",
       "      <th>0</th>\n",
       "      <td>4253</td>\n",
       "      <td>Zeina</td>\n",
       "      <td>243663.10</td>\n",
       "    </tr>\n",
       "    <tr>\n",
       "      <th>1</th>\n",
       "      <td>4163</td>\n",
       "      <td>Maddisyn</td>\n",
       "      <td>107707.89</td>\n",
       "    </tr>\n",
       "    <tr>\n",
       "      <th>2</th>\n",
       "      <td>3494</td>\n",
       "      <td>Atlee</td>\n",
       "      <td>171010.86</td>\n",
       "    </tr>\n",
       "    <tr>\n",
       "      <th>3</th>\n",
       "      <td>3343</td>\n",
       "      <td>Sunnie</td>\n",
       "      <td>150492.18</td>\n",
       "    </tr>\n",
       "    <tr>\n",
       "      <th>4</th>\n",
       "      <td>2654</td>\n",
       "      <td>Nabila</td>\n",
       "      <td>139694.44</td>\n",
       "    </tr>\n",
       "    <tr>\n",
       "      <th>5</th>\n",
       "      <td>2407</td>\n",
       "      <td>Avalee</td>\n",
       "      <td>97752.41</td>\n",
       "    </tr>\n",
       "    <tr>\n",
       "      <th>6</th>\n",
       "      <td>2032</td>\n",
       "      <td>Lyrica</td>\n",
       "      <td>128740.80</td>\n",
       "    </tr>\n",
       "    <tr>\n",
       "      <th>7</th>\n",
       "      <td>1918</td>\n",
       "      <td>Jovi</td>\n",
       "      <td>147364.18</td>\n",
       "    </tr>\n",
       "    <tr>\n",
       "      <th>8</th>\n",
       "      <td>1883</td>\n",
       "      <td>Kayci</td>\n",
       "      <td>228502.41</td>\n",
       "    </tr>\n",
       "    <tr>\n",
       "      <th>9</th>\n",
       "      <td>1817</td>\n",
       "      <td>Odette</td>\n",
       "      <td>140522.59</td>\n",
       "    </tr>\n",
       "  </tbody>\n",
       "</table>\n",
       "</div>"
      ],
      "text/plain": [
       "   client_id client_name  diff_btw_day_night\n",
       "0       4253       Zeina           243663.10\n",
       "1       4163    Maddisyn           107707.89\n",
       "2       3494       Atlee           171010.86\n",
       "3       3343      Sunnie           150492.18\n",
       "4       2654      Nabila           139694.44\n",
       "5       2407      Avalee            97752.41\n",
       "6       2032      Lyrica           128740.80\n",
       "7       1918        Jovi           147364.18\n",
       "8       1883       Kayci           228502.41\n",
       "9       1817      Odette           140522.59"
      ]
     },
     "execution_count": 239,
     "metadata": {},
     "output_type": "execute_result"
    }
   ],
   "source": [
    "pd.read_sql(\n",
    "    f'''\n",
    "    SELECT \n",
    "        tmp.customer_id AS client_id,\n",
    "        tmp.client_name AS client_name,\n",
    "        tmp.diff AS diff_btw_day_night \n",
    "    FROM (\n",
    "        SELECT DISTINCT\n",
    "            tt.customer_id,\n",
    "            ct.client_name,\n",
    "            SUM(CASE WHEN CAST(strftime('%H', tt.tx_datetime) AS INTEGER) < 12 THEN tt.tx_amount ELSE 0 END) OVER (PARTITION BY tt.customer_id) - SUM(CASE WHEN CAST(strftime('%H', tt.tx_datetime) AS INTEGER) >= 12 THEN tt.tx_amount ELSE 0 END) OVER (PARTITION BY tt.customer_id) AS diff\n",
    "        FROM \n",
    "            {transaction_table} AS tt\n",
    "        JOIN {customer_table} AS ct\n",
    "            ON tt.customer_id = ct.client_id\n",
    "            AND DATE(ct.end_dt) >= DATE('{default_date}') \n",
    "        ORDER BY diff DESC\n",
    "        LIMIT 10\n",
    "    ) AS tmp\n",
    "    ORDER BY tmp.customer_id DESC\n",
    "    ''', \n",
    "conn)"
   ]
  },
  {
   "attachments": {},
   "cell_type": "markdown",
   "metadata": {},
   "source": [
    "> d. Найти для каждого клиента день, когда у него была максимальная сумма транзакции, то есть вывести клиента, дату транзакции, сумму транзакции (клиент должен быть действующим, то есть дата закрытия записи о клиенте не должна быть меньше дня относительно которого мы считаемся)."
   ]
  },
  {
   "cell_type": "code",
   "execution_count": 240,
   "metadata": {},
   "outputs": [
    {
     "data": {
      "text/html": [
       "<div>\n",
       "<style scoped>\n",
       "    .dataframe tbody tr th:only-of-type {\n",
       "        vertical-align: middle;\n",
       "    }\n",
       "\n",
       "    .dataframe tbody tr th {\n",
       "        vertical-align: top;\n",
       "    }\n",
       "\n",
       "    .dataframe thead th {\n",
       "        text-align: right;\n",
       "    }\n",
       "</style>\n",
       "<table border=\"1\" class=\"dataframe\">\n",
       "  <thead>\n",
       "    <tr style=\"text-align: right;\">\n",
       "      <th></th>\n",
       "      <th>client_id</th>\n",
       "      <th>client_name</th>\n",
       "      <th>trans_date</th>\n",
       "      <th>trans_sum</th>\n",
       "    </tr>\n",
       "  </thead>\n",
       "  <tbody>\n",
       "    <tr>\n",
       "      <th>0</th>\n",
       "      <td>0</td>\n",
       "      <td>Eleni</td>\n",
       "      <td>2023-02-01</td>\n",
       "      <td>1258.86</td>\n",
       "    </tr>\n",
       "    <tr>\n",
       "      <th>1</th>\n",
       "      <td>1</td>\n",
       "      <td>Jocelyn</td>\n",
       "      <td>2023-02-07</td>\n",
       "      <td>17152.00</td>\n",
       "    </tr>\n",
       "    <tr>\n",
       "      <th>2</th>\n",
       "      <td>2</td>\n",
       "      <td>Bria</td>\n",
       "      <td>2023-02-21</td>\n",
       "      <td>1720.11</td>\n",
       "    </tr>\n",
       "    <tr>\n",
       "      <th>3</th>\n",
       "      <td>5</td>\n",
       "      <td>Zimal</td>\n",
       "      <td>2023-03-21</td>\n",
       "      <td>1156.11</td>\n",
       "    </tr>\n",
       "    <tr>\n",
       "      <th>4</th>\n",
       "      <td>6</td>\n",
       "      <td>Raeya</td>\n",
       "      <td>2023-03-20</td>\n",
       "      <td>369.26</td>\n",
       "    </tr>\n",
       "    <tr>\n",
       "      <th>...</th>\n",
       "      <td>...</td>\n",
       "      <td>...</td>\n",
       "      <td>...</td>\n",
       "      <td>...</td>\n",
       "    </tr>\n",
       "    <tr>\n",
       "      <th>3731</th>\n",
       "      <td>4991</td>\n",
       "      <td>Tyanna</td>\n",
       "      <td>2023-01-25</td>\n",
       "      <td>1070.26</td>\n",
       "    </tr>\n",
       "    <tr>\n",
       "      <th>3732</th>\n",
       "      <td>4992</td>\n",
       "      <td>Logan</td>\n",
       "      <td>2023-03-10</td>\n",
       "      <td>839.03</td>\n",
       "    </tr>\n",
       "    <tr>\n",
       "      <th>3733</th>\n",
       "      <td>4993</td>\n",
       "      <td>Oakland</td>\n",
       "      <td>2023-01-13</td>\n",
       "      <td>1054.57</td>\n",
       "    </tr>\n",
       "    <tr>\n",
       "      <th>3734</th>\n",
       "      <td>4996</td>\n",
       "      <td>Royal</td>\n",
       "      <td>2023-01-11</td>\n",
       "      <td>224.62</td>\n",
       "    </tr>\n",
       "    <tr>\n",
       "      <th>3735</th>\n",
       "      <td>4997</td>\n",
       "      <td>Fatou</td>\n",
       "      <td>2023-01-17</td>\n",
       "      <td>1385.73</td>\n",
       "    </tr>\n",
       "  </tbody>\n",
       "</table>\n",
       "<p>3736 rows × 4 columns</p>\n",
       "</div>"
      ],
      "text/plain": [
       "      client_id client_name  trans_date  trans_sum\n",
       "0             0       Eleni  2023-02-01    1258.86\n",
       "1             1     Jocelyn  2023-02-07   17152.00\n",
       "2             2        Bria  2023-02-21    1720.11\n",
       "3             5       Zimal  2023-03-21    1156.11\n",
       "4             6       Raeya  2023-03-20     369.26\n",
       "...         ...         ...         ...        ...\n",
       "3731       4991      Tyanna  2023-01-25    1070.26\n",
       "3732       4992       Logan  2023-03-10     839.03\n",
       "3733       4993     Oakland  2023-01-13    1054.57\n",
       "3734       4996       Royal  2023-01-11     224.62\n",
       "3735       4997       Fatou  2023-01-17    1385.73\n",
       "\n",
       "[3736 rows x 4 columns]"
      ]
     },
     "execution_count": 240,
     "metadata": {},
     "output_type": "execute_result"
    }
   ],
   "source": [
    "pd.read_sql(\n",
    "    f'''\n",
    "    SELECT \n",
    "        tmp.customer_id AS client_id,\n",
    "        tmp.client_name AS client_name,\n",
    "        DATE(tt.tx_datetime) AS trans_date,\n",
    "        tmp.max AS trans_sum\n",
    "    FROM (    \n",
    "        SELECT\n",
    "            tt.customer_id,\n",
    "            ct.client_name,\n",
    "            MAX(tt.tx_amount) AS max\n",
    "        FROM {transaction_table} AS tt\n",
    "        JOIN {customer_table} AS ct\n",
    "            ON tt.customer_id = ct.client_id\n",
    "            AND DATE(ct.end_dt) >= DATE('{default_date}') \n",
    "        GROUP BY \n",
    "            tt.customer_id\n",
    "    ) AS tmp \n",
    "    LEFT JOIN {transaction_table} AS tt\n",
    "        ON tmp.customer_id = tt.customer_id\n",
    "        AND tmp.max = tt.tx_amount\n",
    "    ORDER BY tmp.customer_id\n",
    "    ''', \n",
    "conn)"
   ]
  },
  {
   "attachments": {},
   "cell_type": "markdown",
   "metadata": {},
   "source": [
    "> e. Вычислить интегральное распределение суммы транзакций для каждого дня за весь период, то есть вывести дату транзакции, сумму транзакции и интегральное распределение по сумме (не учитываем что клиент может быть недействующим)"
   ]
  },
  {
   "cell_type": "code",
   "execution_count": 241,
   "metadata": {},
   "outputs": [
    {
     "data": {
      "text/html": [
       "<div>\n",
       "<style scoped>\n",
       "    .dataframe tbody tr th:only-of-type {\n",
       "        vertical-align: middle;\n",
       "    }\n",
       "\n",
       "    .dataframe tbody tr th {\n",
       "        vertical-align: top;\n",
       "    }\n",
       "\n",
       "    .dataframe thead th {\n",
       "        text-align: right;\n",
       "    }\n",
       "</style>\n",
       "<table border=\"1\" class=\"dataframe\">\n",
       "  <thead>\n",
       "    <tr style=\"text-align: right;\">\n",
       "      <th></th>\n",
       "      <th>trans_date</th>\n",
       "      <th>trans_sum</th>\n",
       "      <th>integ_dist_by_sum</th>\n",
       "    </tr>\n",
       "  </thead>\n",
       "  <tbody>\n",
       "    <tr>\n",
       "      <th>0</th>\n",
       "      <td>2023-01-01</td>\n",
       "      <td>0.81</td>\n",
       "      <td>0.083333</td>\n",
       "    </tr>\n",
       "    <tr>\n",
       "      <th>1</th>\n",
       "      <td>2023-01-01</td>\n",
       "      <td>1.02</td>\n",
       "      <td>0.090909</td>\n",
       "    </tr>\n",
       "    <tr>\n",
       "      <th>2</th>\n",
       "      <td>2023-01-01</td>\n",
       "      <td>1.03</td>\n",
       "      <td>0.083333</td>\n",
       "    </tr>\n",
       "    <tr>\n",
       "      <th>3</th>\n",
       "      <td>2023-01-01</td>\n",
       "      <td>1.08</td>\n",
       "      <td>0.166667</td>\n",
       "    </tr>\n",
       "    <tr>\n",
       "      <th>4</th>\n",
       "      <td>2023-01-01</td>\n",
       "      <td>1.36</td>\n",
       "      <td>0.111111</td>\n",
       "    </tr>\n",
       "    <tr>\n",
       "      <th>...</th>\n",
       "      <td>...</td>\n",
       "      <td>...</td>\n",
       "      <td>...</td>\n",
       "    </tr>\n",
       "    <tr>\n",
       "      <th>1048570</th>\n",
       "      <td>2023-04-20</td>\n",
       "      <td>13024.50</td>\n",
       "      <td>1.000000</td>\n",
       "    </tr>\n",
       "    <tr>\n",
       "      <th>1048571</th>\n",
       "      <td>2023-04-20</td>\n",
       "      <td>18554.25</td>\n",
       "      <td>1.000000</td>\n",
       "    </tr>\n",
       "    <tr>\n",
       "      <th>1048572</th>\n",
       "      <td>2023-04-20</td>\n",
       "      <td>19174.75</td>\n",
       "      <td>1.000000</td>\n",
       "    </tr>\n",
       "    <tr>\n",
       "      <th>1048573</th>\n",
       "      <td>2023-04-20</td>\n",
       "      <td>19740.75</td>\n",
       "      <td>1.000000</td>\n",
       "    </tr>\n",
       "    <tr>\n",
       "      <th>1048574</th>\n",
       "      <td>2023-04-20</td>\n",
       "      <td>29126.50</td>\n",
       "      <td>1.000000</td>\n",
       "    </tr>\n",
       "  </tbody>\n",
       "</table>\n",
       "<p>1048575 rows × 3 columns</p>\n",
       "</div>"
      ],
      "text/plain": [
       "         trans_date  trans_sum  integ_dist_by_sum\n",
       "0        2023-01-01       0.81           0.083333\n",
       "1        2023-01-01       1.02           0.090909\n",
       "2        2023-01-01       1.03           0.083333\n",
       "3        2023-01-01       1.08           0.166667\n",
       "4        2023-01-01       1.36           0.111111\n",
       "...             ...        ...                ...\n",
       "1048570  2023-04-20   13024.50           1.000000\n",
       "1048571  2023-04-20   18554.25           1.000000\n",
       "1048572  2023-04-20   19174.75           1.000000\n",
       "1048573  2023-04-20   19740.75           1.000000\n",
       "1048574  2023-04-20   29126.50           1.000000\n",
       "\n",
       "[1048575 rows x 3 columns]"
      ]
     },
     "execution_count": 241,
     "metadata": {},
     "output_type": "execute_result"
    }
   ],
   "source": [
    "pd.read_sql(\n",
    "    f'''\n",
    "    SELECT \n",
    "        DATE(tt.tx_datetime) AS trans_date,\n",
    "        tt.tx_amount AS trans_sum, \n",
    "        CUME_DIST() OVER(PARTITION BY tt.tx_amount ORDER BY DATE(tt.tx_datetime)) AS integ_dist_by_sum\n",
    "    FROM \n",
    "        {transaction_table} AS tt\n",
    "    ORDER BY\n",
    "        DATE(tt.tx_datetime)\n",
    "    ''', \n",
    "conn)"
   ]
  },
  {
   "attachments": {},
   "cell_type": "markdown",
   "metadata": {},
   "source": [
    "Закрываем подключение"
   ]
  },
  {
   "cell_type": "code",
   "execution_count": 242,
   "metadata": {},
   "outputs": [],
   "source": [
    "conn.close()"
   ]
  }
 ],
 "metadata": {
  "kernelspec": {
   "display_name": "mipt_py_adv_hw1_env",
   "language": "python",
   "name": "python3"
  },
  "language_info": {
   "codemirror_mode": {
    "name": "ipython",
    "version": 3
   },
   "file_extension": ".py",
   "mimetype": "text/x-python",
   "name": "python",
   "nbconvert_exporter": "python",
   "pygments_lexer": "ipython3",
   "version": "3.9.1"
  },
  "orig_nbformat": 4
 },
 "nbformat": 4,
 "nbformat_minor": 2
}
